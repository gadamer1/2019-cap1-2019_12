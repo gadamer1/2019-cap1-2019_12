{
 "cells": [
  {
   "cell_type": "code",
   "execution_count": 1,
   "metadata": {},
   "outputs": [],
   "source": [
    "import pickle\n",
    "import joblib\n",
    "from konlpy.tag import Okt\n",
    "from sklearn.feature_extraction.text import TfidfVectorizer\n",
    "from sklearn.feature_extraction.text import TfidfTransformer\n",
    "from sklearn.linear_model import SGDClassifier\n",
    "from sklearn.pipeline import Pipeline\n",
    "import csv\n",
    "from datetime import datetime"
   ]
  },
  {
   "cell_type": "code",
   "execution_count": 2,
   "metadata": {},
   "outputs": [],
   "source": [
    "def openStopword():\n",
    "    f = open('dataset/stopwords/stopwords.csv', 'r', encoding='utf-8')\n",
    "    reader = csv.reader(f)\n",
    "    stopwords = list()\n",
    "\n",
    "    for row in reader:\n",
    "        stopwords.append(row[0])\n",
    "\n",
    "    return stopwords"
   ]
  },
  {
   "cell_type": "code",
   "execution_count": 3,
   "metadata": {},
   "outputs": [],
   "source": [
    "def tokenizer(raw, pos=[\"Noun\",\"Verb\"], stopword=openStopword()):\n",
    "    return [\n",
    "        word for word, tag in okt.pos(\n",
    "            raw, \n",
    "            norm=True,\n",
    "            stem=True\n",
    "            )\n",
    "            if len(word) > 1 and tag in pos and word not in stopword\n",
    "        ]"
   ]
  },
  {
   "cell_type": "code",
   "execution_count": 4,
   "metadata": {},
   "outputs": [],
   "source": [
    "okt = Okt()"
   ]
  },
  {
   "cell_type": "code",
   "execution_count": 5,
   "metadata": {},
   "outputs": [],
   "source": [
    "keyword_names = ['글로벌역량', '능동', '도전', '성실', '소통', '인내심', '정직', '주인의식', '창의', '팀워크']"
   ]
  },
  {
   "cell_type": "code",
   "execution_count": 6,
   "metadata": {},
   "outputs": [],
   "source": [
    "vectorize = TfidfVectorizer(\n",
    "    ngram_range=(1,3), #n-gram 3\n",
    "    tokenizer=tokenizer,\n",
    "    max_df=0.95,\n",
    "    min_df=0,\n",
    "    sublinear_tf=True\n",
    ")"
   ]
  },
  {
   "cell_type": "code",
   "execution_count": 7,
   "metadata": {},
   "outputs": [
    {
     "name": "stdout",
     "output_type": "stream",
     "text": [
      "0:00:33.790856\n"
     ]
    }
   ],
   "source": [
    "now = datetime.now()\n",
    "\n",
    "filename = 'saved_model/SVC_190516.joblib'\n",
    "svc_from_pickle = joblib.load(filename)\n",
    "\n",
    "after = datetime.now()\n",
    "print(after-now)"
   ]
  },
  {
   "cell_type": "code",
   "execution_count": 8,
   "metadata": {},
   "outputs": [],
   "source": [
    "job = ['architecture','IT','management','production','sales']\n",
    "company = ['samsung','hyundai','LG','SK','CJ']"
   ]
  },
  {
   "cell_type": "code",
   "execution_count": 9,
   "metadata": {},
   "outputs": [],
   "source": [
    "company_dict = {'samsung': [-0.8887642959439978,\n",
    "  -0.2320497495038032,\n",
    "  -0.3980158364286989,\n",
    "  0.07982216179178525,\n",
    "  -0.4634689585655357,\n",
    "  -1.4945375211875371,\n",
    "  -1.5887466236154073,\n",
    "  -0.3994969557289842,\n",
    "  -1.9458319112295257,\n",
    "  -0.6715375781390972],\n",
    " 'hyundai': [-0.8228359594421046,\n",
    "  -0.4560047847307666,\n",
    "  -0.4392581998869604,\n",
    "  0.05151212010714745,\n",
    "  -0.37278093523020006,\n",
    "  -1.441515818729987,\n",
    "  -1.6143444997864906,\n",
    "  -0.554804611382156,\n",
    "  -1.831011837725321,\n",
    "  -0.6144309645563442],\n",
    " 'LG': [-0.7620625480990436,\n",
    "  -0.4474363044623253,\n",
    "  -0.46674841323118554,\n",
    "  0.07333865957640484,\n",
    "  -0.43207572092095403,\n",
    "  -1.4279317971574639,\n",
    "  -1.4718943563369267,\n",
    "  -0.6400563343545634,\n",
    "  -1.7959020562081858,\n",
    "  -0.7120585840815354],\n",
    " 'SK': [-0.7200478445244407,\n",
    "  -0.4990252126738345,\n",
    "  -0.4127369498124192,\n",
    "  0.006192507305919692,\n",
    "  -0.41839920312881207,\n",
    "  -1.4965564622475518,\n",
    "  -1.4192891756133306,\n",
    "  -0.552887345195595,\n",
    "  -1.773997090857436,\n",
    "  -0.6549712334986287],\n",
    " 'CJ': [-0.7197954463771161,\n",
    "  -0.3855618389458571,\n",
    "  -0.5225478215844543,\n",
    "  0.010193007021379819,\n",
    "  -0.2898697024011009,\n",
    "  -1.865131533958604,\n",
    "  -1.4985025101392337,\n",
    "  -0.6209880454739807,\n",
    "  -1.7121484451524631,\n",
    "  -0.5946502637415154]}"
   ]
  },
  {
   "cell_type": "code",
   "execution_count": 10,
   "metadata": {
    "scrolled": true
   },
   "outputs": [],
   "source": [
    "job_dict = {'architecture': [-0.7937901908504912,\n",
    "  -0.3515023301323073,\n",
    "  -0.4554235835706492,\n",
    "  0.018568441679702063,\n",
    "  -0.3968237083739492,\n",
    "  -1.3308666785039271,\n",
    "  -1.6242769517092572,\n",
    "  -0.5504430612943971,\n",
    "  -1.885447745552018,\n",
    "  -0.6388167463616912],\n",
    " 'IT': [-0.7696259816584736,\n",
    "  -0.3750560327936908,\n",
    "  -0.6220453215282576,\n",
    "  0.038524218054105,\n",
    "  -0.39442095530384713,\n",
    "  -1.544660045088205,\n",
    "  -1.5460983332577034,\n",
    "  -0.4308008828190042,\n",
    "  -1.8394535505010086,\n",
    "  -0.6759891813109313],\n",
    " 'management': [-0.5188299343485987,\n",
    "  -0.029901147197725186,\n",
    "  -0.6619645384923605,\n",
    "  -0.5445850626174967,\n",
    "  -0.5504030525920545,\n",
    "  -1.9072380753198996,\n",
    "  -1.74431572373821,\n",
    "  -0.24064155987741787,\n",
    "  -2.0314113808502823,\n",
    "  -0.46495878588644735],\n",
    " 'production': [-1.0853401959447126,\n",
    "  -0.7227053210850563,\n",
    "  -0.3608547010214966,\n",
    "  0.3813338308480395,\n",
    "  -0.576729031195717,\n",
    "  -0.4727332740131014,\n",
    "  -0.926939806428483,\n",
    "  -0.7580681852975474,\n",
    "  -1.486658160389664,\n",
    "  -0.759715089466218],\n",
    " 'sales': [-0.7978916757591541,\n",
    "  -0.31373308290366486,\n",
    "  -0.4780229416815024,\n",
    "  0.09685117511087538,\n",
    "  -0.42681929500149385,\n",
    "  -1.5038986238349443,\n",
    "  -1.4333001252748199,\n",
    "  -0.6346743462103275,\n",
    "  -1.9094620003216995,\n",
    "  -0.6192814575524809]}"
   ]
  },
  {
   "cell_type": "code",
   "execution_count": 11,
   "metadata": {},
   "outputs": [],
   "source": [
    "import pandas as pd"
   ]
  },
  {
   "cell_type": "code",
   "execution_count": 12,
   "metadata": {},
   "outputs": [],
   "source": [
    "samsung = pd.read_csv(\"dataset/samsung.csv\", encoding=\"utf-8\")\n",
    "hyundai = pd.read_csv(\"dataset/hyundai.csv\", encoding=\"utf-8\")\n",
    "LG = pd.read_csv(\"dataset/LG.csv\", encoding=\"utf-8\")\n",
    "SK = pd.read_csv(\"dataset/SK.csv\", encoding=\"utf-8\")\n",
    "CJ = pd.read_csv(\"dataset/CJ.csv\", encoding=\"utf-8\")"
   ]
  },
  {
   "cell_type": "code",
   "execution_count": 13,
   "metadata": {},
   "outputs": [],
   "source": [
    "architecture = pd.read_csv(\"dataset/architecture.csv\", encoding=\"utf-8\")\n",
    "IT = pd.read_csv(\"dataset/IT.csv\", encoding=\"utf-8\")\n",
    "management = pd.read_csv(\"dataset/management.csv\", encoding=\"utf-8\")\n",
    "production = pd.read_csv(\"dataset/production.csv\", encoding=\"utf-8\")\n",
    "sales = pd.read_csv(\"dataset/sales.csv\", encoding=\"utf-8\")"
   ]
  },
  {
   "cell_type": "code",
   "execution_count": 14,
   "metadata": {},
   "outputs": [],
   "source": [
    "#생산 데이터 자름\n",
    "from sklearn.model_selection import train_test_split\n",
    "production_more, production_less = train_test_split(production, test_size=0.25, random_state=42)\n",
    "production = production_less"
   ]
  },
  {
   "cell_type": "code",
   "execution_count": 15,
   "metadata": {},
   "outputs": [],
   "source": [
    "company_csv = samsung.append(hyundai).append(LG).append(SK).append(CJ)\n",
    "job_csv = architecture.append(IT).append(management).append(production).append(sales)"
   ]
  },
  {
   "cell_type": "code",
   "execution_count": 16,
   "metadata": {},
   "outputs": [
    {
     "data": {
      "text/html": [
       "<div>\n",
       "<style scoped>\n",
       "    .dataframe tbody tr th:only-of-type {\n",
       "        vertical-align: middle;\n",
       "    }\n",
       "\n",
       "    .dataframe tbody tr th {\n",
       "        vertical-align: top;\n",
       "    }\n",
       "\n",
       "    .dataframe thead th {\n",
       "        text-align: right;\n",
       "    }\n",
       "</style>\n",
       "<table border=\"1\" class=\"dataframe\">\n",
       "  <thead>\n",
       "    <tr style=\"text-align: right;\">\n",
       "      <th></th>\n",
       "      <th>label</th>\n",
       "      <th>type</th>\n",
       "      <th>company</th>\n",
       "      <th>document</th>\n",
       "    </tr>\n",
       "  </thead>\n",
       "  <tbody>\n",
       "    <tr>\n",
       "      <th>0</th>\n",
       "      <td>samsung</td>\n",
       "      <td>영업관리</td>\n",
       "      <td>2018년 삼성화재 01</td>\n",
       "      <td>1. 삼성취업을 선택한 이유와 입사 후 회사에서 이루고 싶은 꿈을 기술하십시오. (...</td>\n",
       "    </tr>\n",
       "    <tr>\n",
       "      <th>1</th>\n",
       "      <td>samsung</td>\n",
       "      <td>생산기술</td>\n",
       "      <td>2018년 삼성전자 04</td>\n",
       "      <td>1.삼성전자를 지원한 이유와 입사 후 회사에서 이루고 싶은 꿈을 기술하십시오.\\n[...</td>\n",
       "    </tr>\n",
       "    <tr>\n",
       "      <th>2</th>\n",
       "      <td>samsung</td>\n",
       "      <td>반도체</td>\n",
       "      <td>2018년 삼성전자 03</td>\n",
       "      <td>1. 삼성전자를 지원한 이유와 입사 후 회사에서 이루고 싶은 꿈을 기술하십시오. (...</td>\n",
       "    </tr>\n",
       "    <tr>\n",
       "      <th>3</th>\n",
       "      <td>samsung</td>\n",
       "      <td>국내영업</td>\n",
       "      <td>2018년 삼성전자 02</td>\n",
       "      <td>삼성전자를 지원한 이유와 입사 후 회사에서 이루고 싶은 꿈을 기술하십시오.\\n[공조...</td>\n",
       "    </tr>\n",
       "    <tr>\n",
       "      <th>4</th>\n",
       "      <td>samsung</td>\n",
       "      <td>공통(CE/IM/전사직속)-소프트웨어</td>\n",
       "      <td>2018년 삼성전자 01</td>\n",
       "      <td>Essay1 삼성전자를 지원한 이유와 입사 후 회사에서 이루고 싶은 꿈을 기술하십시...</td>\n",
       "    </tr>\n",
       "  </tbody>\n",
       "</table>\n",
       "</div>"
      ],
      "text/plain": [
       "     label                  type        company  \\\n",
       "0  samsung                  영업관리  2018년 삼성화재 01   \n",
       "1  samsung                  생산기술  2018년 삼성전자 04   \n",
       "2  samsung                   반도체  2018년 삼성전자 03   \n",
       "3  samsung                  국내영업  2018년 삼성전자 02   \n",
       "4  samsung  공통(CE/IM/전사직속)-소프트웨어  2018년 삼성전자 01   \n",
       "\n",
       "                                            document  \n",
       "0  1. 삼성취업을 선택한 이유와 입사 후 회사에서 이루고 싶은 꿈을 기술하십시오. (...  \n",
       "1  1.삼성전자를 지원한 이유와 입사 후 회사에서 이루고 싶은 꿈을 기술하십시오.\\n[...  \n",
       "2  1. 삼성전자를 지원한 이유와 입사 후 회사에서 이루고 싶은 꿈을 기술하십시오. (...  \n",
       "3  삼성전자를 지원한 이유와 입사 후 회사에서 이루고 싶은 꿈을 기술하십시오.\\n[공조...  \n",
       "4  Essay1 삼성전자를 지원한 이유와 입사 후 회사에서 이루고 싶은 꿈을 기술하십시...  "
      ]
     },
     "execution_count": 16,
     "metadata": {},
     "output_type": "execute_result"
    }
   ],
   "source": [
    "company_csv.head()"
   ]
  },
  {
   "cell_type": "code",
   "execution_count": 17,
   "metadata": {},
   "outputs": [
    {
     "data": {
      "text/html": [
       "<div>\n",
       "<style scoped>\n",
       "    .dataframe tbody tr th:only-of-type {\n",
       "        vertical-align: middle;\n",
       "    }\n",
       "\n",
       "    .dataframe tbody tr th {\n",
       "        vertical-align: top;\n",
       "    }\n",
       "\n",
       "    .dataframe thead th {\n",
       "        text-align: right;\n",
       "    }\n",
       "</style>\n",
       "<table border=\"1\" class=\"dataframe\">\n",
       "  <thead>\n",
       "    <tr style=\"text-align: right;\">\n",
       "      <th></th>\n",
       "      <th>label</th>\n",
       "      <th>type</th>\n",
       "      <th>company</th>\n",
       "      <th>document</th>\n",
       "    </tr>\n",
       "  </thead>\n",
       "  <tbody>\n",
       "    <tr>\n",
       "      <th>0</th>\n",
       "      <td>architecture</td>\n",
       "      <td>건축시공</td>\n",
       "      <td>2018년 현대엔지니어링 01</td>\n",
       "      <td>본인이 회사를 선택하는데 있어 가장 중요하게 생각하는 가치는 무엇인지와, 입사 후 ...</td>\n",
       "    </tr>\n",
       "    <tr>\n",
       "      <th>1</th>\n",
       "      <td>architecture</td>\n",
       "      <td>전기</td>\n",
       "      <td>2018년 한국철도공사 03</td>\n",
       "      <td>1.*직장으로 한국철도공사에 지원하게 된 동기와 입사 후 포부를 기술하여 주십시오....</td>\n",
       "    </tr>\n",
       "    <tr>\n",
       "      <th>2</th>\n",
       "      <td>architecture</td>\n",
       "      <td>전기</td>\n",
       "      <td>2018년 한국전력거래소 02</td>\n",
       "      <td>1.*팀으로 업무 혹은 프로젝트를 수행하는 과정에서 동료의 실수로 인해 문제가 발생...</td>\n",
       "    </tr>\n",
       "    <tr>\n",
       "      <th>3</th>\n",
       "      <td>architecture</td>\n",
       "      <td>전기계장</td>\n",
       "      <td>2018년 포스코켐텍 01</td>\n",
       "      <td>1. 본인을 채용하게 되면 포스코켐텍에 영향을 줄 수 있는 긍정적인 측면(기회)에 ...</td>\n",
       "    </tr>\n",
       "    <tr>\n",
       "      <th>4</th>\n",
       "      <td>architecture</td>\n",
       "      <td>전기</td>\n",
       "      <td>2018년 대한항공 02</td>\n",
       "      <td>직장으로 항공사, 특히 대한항공에 지원하게 된 동기와 입사 후 포부를 간단하게 작성...</td>\n",
       "    </tr>\n",
       "  </tbody>\n",
       "</table>\n",
       "</div>"
      ],
      "text/plain": [
       "          label  type           company  \\\n",
       "0  architecture  건축시공  2018년 현대엔지니어링 01   \n",
       "1  architecture    전기   2018년 한국철도공사 03   \n",
       "2  architecture    전기  2018년 한국전력거래소 02   \n",
       "3  architecture  전기계장    2018년 포스코켐텍 01   \n",
       "4  architecture    전기     2018년 대한항공 02   \n",
       "\n",
       "                                            document  \n",
       "0  본인이 회사를 선택하는데 있어 가장 중요하게 생각하는 가치는 무엇인지와, 입사 후 ...  \n",
       "1  1.*직장으로 한국철도공사에 지원하게 된 동기와 입사 후 포부를 기술하여 주십시오....  \n",
       "2  1.*팀으로 업무 혹은 프로젝트를 수행하는 과정에서 동료의 실수로 인해 문제가 발생...  \n",
       "3  1. 본인을 채용하게 되면 포스코켐텍에 영향을 줄 수 있는 긍정적인 측면(기회)에 ...  \n",
       "4  직장으로 항공사, 특히 대한항공에 지원하게 된 동기와 입사 후 포부를 간단하게 작성...  "
      ]
     },
     "execution_count": 17,
     "metadata": {},
     "output_type": "execute_result"
    }
   ],
   "source": [
    "job_csv.head()"
   ]
  },
  {
   "cell_type": "code",
   "execution_count": 18,
   "metadata": {},
   "outputs": [],
   "source": [
    "def SVCpredict(model, text):\n",
    "    result = model.predict([text])\n",
    "    return keyword_names[result[0]-1]"
   ]
  },
  {
   "cell_type": "code",
   "execution_count": 19,
   "metadata": {},
   "outputs": [],
   "source": [
    "def SVCdecision(model, lst):\n",
    "    result = []\n",
    "    for li in lst:\n",
    "        result.append(model.decision_function([li]).tolist()[0])\n",
    "    return result        "
   ]
  },
  {
   "cell_type": "code",
   "execution_count": 20,
   "metadata": {},
   "outputs": [],
   "source": [
    "import operator\n",
    "\n",
    "def Compare(decision_dict,type_arr,lst):\n",
    "    result = []\n",
    "    for li in lst:\n",
    "        compare_dict = {}\n",
    "        for i in range(len(decision_dict)):#5\n",
    "            tmp = []\n",
    "            for j in range(len(li)):#10\n",
    "                tmp.append(abs(decision_dict[type_arr[i]][j] - li[j]))\n",
    "            compare_dict[type_arr[i]] = sum(tmp)\n",
    "        result.append(sorted(compare_dict.items(), key=operator.itemgetter(1))[0][0])\n",
    "    return result"
   ]
  },
  {
   "cell_type": "code",
   "execution_count": 21,
   "metadata": {},
   "outputs": [],
   "source": [
    "import numpy as np"
   ]
  },
  {
   "cell_type": "code",
   "execution_count": 22,
   "metadata": {},
   "outputs": [
    {
     "data": {
      "text/plain": [
       "0.1899159663865546"
      ]
     },
     "execution_count": 22,
     "metadata": {},
     "output_type": "execute_result"
    }
   ],
   "source": [
    "np.mean(Compare(company_dict,company,SVCdecision(svc_from_pickle, company_csv[\"document\"])) == company_csv[\"label\"])"
   ]
  },
  {
   "cell_type": "code",
   "execution_count": 23,
   "metadata": {},
   "outputs": [
    {
     "data": {
      "text/plain": [
       "0.2792621727926217"
      ]
     },
     "execution_count": 23,
     "metadata": {},
     "output_type": "execute_result"
    }
   ],
   "source": [
    "np.mean(Compare(job_dict,job,SVCdecision(svc_from_pickle, job_csv[\"document\"])) == job_csv[\"label\"])"
   ]
  }
 ],
 "metadata": {
  "kernelspec": {
   "display_name": "Python 3",
   "language": "python",
   "name": "python3"
  },
  "language_info": {
   "codemirror_mode": {
    "name": "ipython",
    "version": 3
   },
   "file_extension": ".py",
   "mimetype": "text/x-python",
   "name": "python",
   "nbconvert_exporter": "python",
   "pygments_lexer": "ipython3",
   "version": "3.6.8"
  }
 },
 "nbformat": 4,
 "nbformat_minor": 2
}
