{
 "cells": [
  {
   "cell_type": "code",
   "execution_count": 1,
   "metadata": {},
   "outputs": [],
   "source": [
    "import pickle\n",
    "import joblib\n",
    "from konlpy.tag import Okt\n",
    "from sklearn.feature_extraction.text import TfidfVectorizer\n",
    "from sklearn.feature_extraction.text import TfidfTransformer\n",
    "from sklearn.linear_model import SGDClassifier\n",
    "from sklearn.pipeline import Pipeline\n",
    "import csv"
   ]
  },
  {
   "cell_type": "code",
   "execution_count": 2,
   "metadata": {},
   "outputs": [],
   "source": [
    "def openStopword():\n",
    "    f = open('dataset/stopwords/stopwords.csv', 'r', encoding='utf-8')\n",
    "    reader = csv.reader(f)\n",
    "    stopwords = list()\n",
    "\n",
    "    for row in reader:\n",
    "        stopwords.append(row[0])\n",
    "\n",
    "    return stopwords"
   ]
  },
  {
   "cell_type": "code",
   "execution_count": 3,
   "metadata": {},
   "outputs": [],
   "source": [
    "def tokenizer(raw, pos=[\"Noun\",\"Verb\"], stopword=openStopword()):\n",
    "    return [\n",
    "        word for word, tag in okt.pos(\n",
    "            raw, \n",
    "            norm=True,\n",
    "            stem=True\n",
    "            )\n",
    "            if len(word) > 1 and tag in pos and word not in stopword\n",
    "        ]"
   ]
  },
  {
   "cell_type": "code",
   "execution_count": 4,
   "metadata": {},
   "outputs": [],
   "source": [
    "okt = Okt()"
   ]
  },
  {
   "cell_type": "code",
   "execution_count": 5,
   "metadata": {},
   "outputs": [],
   "source": [
    "keyword_names = ['글로벌역량', '능동', '도전', '성실', '소통', '인내심', '정직', '주인의식', '창의', '팀워크']"
   ]
  },
  {
   "cell_type": "code",
   "execution_count": 6,
   "metadata": {},
   "outputs": [],
   "source": [
    "vectorize = TfidfVectorizer(\n",
    "    ngram_range=(1,2),\n",
    "    tokenizer=tokenizer,\n",
    "    max_df=0.95,\n",
    "    min_df=0,\n",
    "    sublinear_tf=True\n",
    ")"
   ]
  },
  {
   "cell_type": "code",
   "execution_count": 7,
   "metadata": {},
   "outputs": [],
   "source": [
    "filename = 'SVMmodel_190516.joblib'\n",
    "clf_from_pickle = joblib.load(filename)"
   ]
  },
  {
   "cell_type": "code",
   "execution_count": 8,
   "metadata": {},
   "outputs": [],
   "source": [
    "def SVMpredict(text):\n",
    "    result = clf_from_pickle.predict([text])\n",
    "    return keyword_names[result[0]-1]"
   ]
  },
  {
   "cell_type": "code",
   "execution_count": 9,
   "metadata": {},
   "outputs": [],
   "source": [
    "def SVMdecision(text):\n",
    "    return clf_from_pickle.decision_function([text]).tolist()"
   ]
  },
  {
   "cell_type": "code",
   "execution_count": 10,
   "metadata": {},
   "outputs": [],
   "source": [
    "import json\n",
    "#기업\n",
    "#삼성 현대 엘지 SK CJ\n",
    "\n",
    "samsung_origin = json.loads(open('dataset/resumes/educe_samsung.json', encoding=\"utf-8\").read())\n",
    "hyundai_origin = json.loads(open('dataset/resumes/educe_hyundai.json', encoding=\"utf-8\").read())\n",
    "LG_origin = json.loads(open('dataset/resumes/educe_LG.json', encoding=\"utf-8\").read())\n",
    "SK_origin = json.loads(open('dataset/resumes/educe_SK.json', encoding=\"utf-8\").read())\n",
    "CJ_origin = json.loads(open('dataset/resumes/educe_CJ.json', encoding=\"utf-8\").read())"
   ]
  },
  {
   "cell_type": "code",
   "execution_count": 11,
   "metadata": {},
   "outputs": [],
   "source": [
    "def make_txt(origin_json):\n",
    "    result = \"\"\n",
    "    for resume in origin_json:\n",
    "        result += resume['document']\n",
    "    return result"
   ]
  },
  {
   "cell_type": "code",
   "execution_count": 12,
   "metadata": {},
   "outputs": [],
   "source": [
    "samsung = make_txt(samsung_origin)\n",
    "hyundai = make_txt(hyundai_origin)\n",
    "LG = make_txt(LG_origin)\n",
    "SK = make_txt(SK_origin)\n",
    "CJ = make_txt(CJ_origin)"
   ]
  },
  {
   "cell_type": "code",
   "execution_count": null,
   "metadata": {},
   "outputs": [],
   "source": [
    "predict_result = clf_from_pickle.predict([samsung,hyundai,LG,SK,CJ]).tolist()\n",
    "#2,2,8,2,2"
   ]
  },
  {
   "cell_type": "code",
   "execution_count": null,
   "metadata": {},
   "outputs": [],
   "source": [
    "decision_result = clf_from_pickle.decision_function([samsung,hyundai,LG,SK,CJ]).tolist()\n",
    "#[[-1.037130696722559309e+00, -9.585070147284189268e-01, -9.974816779480838447e-01, -9.960434378430856883e-01, -1.044291144562182971e+00, -1.011416175802230422e+00, -1.082306028024373701e+00, -9.723745689274718718e-01, -1.054980302160777761e+00, -1.038985179996822383e+00],\n",
    "#[-1.022905058780172016e+00, -9.729714011140895291e-01, -9.979109424116415772e-01, -9.960838890592615957e-01, -1.035563573794652914e+00, -1.006832867792128772e+00, -1.079813400441117510e+00, -9.743427615183873902e-01, -1.045494667635081809e+00, -1.025537419468688594e+00],\n",
    "#[-1.016472614211637815e+00, -9.766467738352675454e-01, -1.000375379621457395e+00, -9.978555971847123951e-01, -1.038529457331845096e+00, -1.005774030426986432e+00, -1.073706419588563943e+00, -9.765262185815020146e-01, -1.042025601114519251e+00, -1.037331119062074425e+00],\n",
    "#[-1.019009529590173768e+00, -9.757679547367305029e-01, -1.000952694031802315e+00, -1.001619339550971599e+00, -1.030700573938479581e+00, -1.010927717493489641e+00, -1.073901315828346359e+00, -9.765517184248780902e-01, -1.048375640102809703e+00, -1.034617815315719946e+00],\n",
    "#[-1.010540533808717001e+00, -9.654996280275474074e-01, -9.992614800895766036e-01, -9.941822080072016954e-01, -1.034704905158396748e+00, -1.021293330430268931e+00, -1.068412167230169185e+00, -9.774429429272191161e-01, -1.036193310539011980e+00, -1.018506850812170628e+00]]"
   ]
  },
  {
   "cell_type": "code",
   "execution_count": null,
   "metadata": {},
   "outputs": [],
   "source": [
    "with open('predict_190516.txt', 'w') as f:\n",
    "    for item in predict_result:\n",
    "        f.write(\"%s\\n\" % item)"
   ]
  },
  {
   "cell_type": "code",
   "execution_count": null,
   "metadata": {},
   "outputs": [],
   "source": [
    "with open('decision_190516.txt', 'w') as f:\n",
    "    for item in decision_result:\n",
    "        f.write(\"%s\\n\" % item)"
   ]
  }
 ],
 "metadata": {
  "kernelspec": {
   "display_name": "Python 3",
   "language": "python",
   "name": "python3"
  },
  "language_info": {
   "codemirror_mode": {
    "name": "ipython",
    "version": 3
   },
   "file_extension": ".py",
   "mimetype": "text/x-python",
   "name": "python",
   "nbconvert_exporter": "python",
   "pygments_lexer": "ipython3",
   "version": "3.6.8"
  }
 },
 "nbformat": 4,
 "nbformat_minor": 2
}
