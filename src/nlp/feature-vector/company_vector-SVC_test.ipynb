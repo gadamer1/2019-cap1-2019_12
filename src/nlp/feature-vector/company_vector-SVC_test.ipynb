{
 "cells": [
  {
   "cell_type": "code",
   "execution_count": 1,
   "metadata": {},
   "outputs": [],
   "source": [
    "import pickle\n",
    "import joblib\n",
    "from konlpy.tag import Okt\n",
    "from sklearn.feature_extraction.text import TfidfVectorizer\n",
    "from sklearn.feature_extraction.text import TfidfTransformer\n",
    "from sklearn.linear_model import SGDClassifier\n",
    "from sklearn.pipeline import Pipeline\n",
    "import csv"
   ]
  },
  {
   "cell_type": "code",
   "execution_count": 2,
   "metadata": {},
   "outputs": [],
   "source": [
    "def openStopword():\n",
    "    f = open('dataset/stopwords/stopwords.csv', 'r', encoding='utf-8')\n",
    "    reader = csv.reader(f)\n",
    "    stopwords = list()\n",
    "\n",
    "    for row in reader:\n",
    "        stopwords.append(row[0])\n",
    "\n",
    "    return stopwords"
   ]
  },
  {
   "cell_type": "code",
   "execution_count": 3,
   "metadata": {},
   "outputs": [],
   "source": [
    "def tokenizer(raw, pos=[\"Noun\",\"Verb\"], stopword=openStopword()):\n",
    "    return [\n",
    "        word for word, tag in okt.pos(\n",
    "            raw, \n",
    "            norm=True,\n",
    "            stem=True\n",
    "            )\n",
    "            if len(word) > 1 and tag in pos and word not in stopword\n",
    "        ]"
   ]
  },
  {
   "cell_type": "code",
   "execution_count": 4,
   "metadata": {},
   "outputs": [],
   "source": [
    "okt = Okt()"
   ]
  },
  {
   "cell_type": "code",
   "execution_count": 5,
   "metadata": {},
   "outputs": [],
   "source": [
    "keyword_names = ['글로벌역량', '능동', '도전', '성실', '소통', '인내심', '정직', '주인의식', '창의', '팀워크']"
   ]
  },
  {
   "cell_type": "code",
   "execution_count": 6,
   "metadata": {},
   "outputs": [],
   "source": [
    "vectorize = TfidfVectorizer(\n",
    "    ngram_range=(1,3),\n",
    "    tokenizer=tokenizer,\n",
    "    max_df=0.95,\n",
    "    min_df=0,\n",
    "    sublinear_tf=True\n",
    ")"
   ]
  },
  {
   "cell_type": "code",
   "execution_count": 7,
   "metadata": {},
   "outputs": [],
   "source": [
    "filename = 'saved_model/SVC_190516.joblib'\n",
    "svc_from_pickle = joblib.load(filename)"
   ]
  },
  {
   "cell_type": "code",
   "execution_count": 8,
   "metadata": {},
   "outputs": [],
   "source": [
    "def SVCpredict(model,text):\n",
    "    result = model.predict([text])\n",
    "    return keyword_names[result[0]-1]"
   ]
  },
  {
   "cell_type": "code",
   "execution_count": 9,
   "metadata": {},
   "outputs": [],
   "source": [
    "import json\n",
    "#기업\n",
    "#삼성 현대 엘지 SK CJ\n",
    "\n",
    "samsung_origin = json.loads(open('dataset/resumes/educe_samsung.json', encoding=\"utf-8\").read())\n",
    "hyundai_origin = json.loads(open('dataset/resumes/educe_hyundai.json', encoding=\"utf-8\").read())\n",
    "LG_origin = json.loads(open('dataset/resumes/educe_LG.json', encoding=\"utf-8\").read())\n",
    "SK_origin = json.loads(open('dataset/resumes/educe_SK.json', encoding=\"utf-8\").read())\n",
    "CJ_origin = json.loads(open('dataset/resumes/educe_CJ.json', encoding=\"utf-8\").read())"
   ]
  },
  {
   "cell_type": "code",
   "execution_count": 10,
   "metadata": {},
   "outputs": [],
   "source": [
    "def make_txt(origin_json):\n",
    "    result = \"\"\n",
    "    for resume in origin_json:\n",
    "        result += resume['document']\n",
    "    return result"
   ]
  },
  {
   "cell_type": "code",
   "execution_count": 11,
   "metadata": {},
   "outputs": [],
   "source": [
    "samsung = make_txt(samsung_origin)\n",
    "hyundai = make_txt(hyundai_origin)\n",
    "LG = make_txt(LG_origin)\n",
    "SK = make_txt(SK_origin)\n",
    "CJ = make_txt(CJ_origin)"
   ]
  },
  {
   "cell_type": "code",
   "execution_count": 12,
   "metadata": {},
   "outputs": [],
   "source": [
    "predict_result = svc_from_pickle.predict([samsung,hyundai,LG,SK,CJ]).tolist()"
   ]
  },
  {
   "cell_type": "code",
   "execution_count": 13,
   "metadata": {},
   "outputs": [],
   "source": [
    "decision_result = svc_from_pickle.decision_function([samsung,hyundai,LG,SK,CJ]).tolist()"
   ]
  },
  {
   "cell_type": "code",
   "execution_count": 14,
   "metadata": {},
   "outputs": [],
   "source": [
    "with open('predict_190517.txt', 'w') as f:\n",
    "    for item in predict_result:\n",
    "        f.write(\"%s\\n\" % item)"
   ]
  },
  {
   "cell_type": "code",
   "execution_count": 15,
   "metadata": {},
   "outputs": [],
   "source": [
    "with open('decision_190517.txt', 'w') as f:\n",
    "    for item in decision_result:\n",
    "        f.write(\"%s\\n\" % item)"
   ]
  }
 ],
 "metadata": {
  "kernelspec": {
   "display_name": "Python 3",
   "language": "python",
   "name": "python3"
  },
  "language_info": {
   "codemirror_mode": {
    "name": "ipython",
    "version": 3
   },
   "file_extension": ".py",
   "mimetype": "text/x-python",
   "name": "python",
   "nbconvert_exporter": "python",
   "pygments_lexer": "ipython3",
   "version": "3.6.8"
  }
 },
 "nbformat": 4,
 "nbformat_minor": 2
}
