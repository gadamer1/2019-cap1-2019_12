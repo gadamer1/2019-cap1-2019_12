{
 "cells": [
  {
   "cell_type": "code",
   "execution_count": 1,
   "metadata": {},
   "outputs": [
    {
     "data": {
      "text/plain": [
       "'/Users/leesunhong/2019capstone/all_resume'"
      ]
     },
     "execution_count": 1,
     "metadata": {},
     "output_type": "execute_result"
    }
   ],
   "source": [
    "import pandas as pd\n",
    "import os\n",
    "os.getcwd()"
   ]
  },
  {
   "cell_type": "code",
   "execution_count": 2,
   "metadata": {},
   "outputs": [],
   "source": [
    "def read_txt_data(filename):\n",
    "    with open(filename, 'r', encoding='utf-8') as f:\n",
    "        data = f.read()\n",
    "        # remove_quotes\n",
    "        data = data.replace(\"‘\", \" \")\n",
    "        data = data.replace(\"’\", \" \")\n",
    "        data = data.replace(\"“\", \" \")\n",
    "        data = data.replace(\"”\", \" \")\n",
    "        data = data.replace(\"`\", \" \")\n",
    "        data = data.replace(\"\\'\", \" \")\n",
    "        data = data.replace(\"\\\"\", \" \")\n",
    "        \n",
    "        \n",
    "    return data"
   ]
  },
  {
   "cell_type": "code",
   "execution_count": 3,
   "metadata": {
    "scrolled": true
   },
   "outputs": [],
   "source": [
    "challenge_data = read_txt_data('dataset/challenge_large.txt')\n",
    "creative_data = read_txt_data('dataset/creative_large.txt')\n",
    "teamwork_data = read_txt_data('dataset/teamwork_large.txt')\n"
   ]
  },
  {
   "cell_type": "code",
   "execution_count": 15,
   "metadata": {},
   "outputs": [],
   "source": [
    "import csv\n",
    "\n",
    "\n",
    "with open('dataset/challenge.csv', 'w') as out_file:\n",
    "    docs_challenge = csv.writer(out_file)\n",
    "    docs_challenge.writerow([\"document\"])\n",
    "    lines = challenge_data.split(\".\")\n",
    "    for i in lines:\n",
    "        docs_challenge.writerow([i])\n",
    "\n",
    "with open('dataset/creative.csv', 'w') as out_file:\n",
    "    docs_creative = csv.writer(out_file)\n",
    "    docs_creative.writerow([\"document\"])\n",
    "    lines = creative_data.split(\".\")\n",
    "    for i in lines:\n",
    "        docs_creative.writerow([i])\n",
    "\n",
    "with open('dataset/teamwork.csv', 'w') as out_file:\n",
    "    docs_teamwork = csv.writer(out_file)\n",
    "    docs_teamwork.writerow([\"document\"])\n",
    "    lines = teamwork_data.split(\".\")\n",
    "    for i in lines:\n",
    "        docs_teamwork.writerow([i])\n",
    "        \n"
   ]
  },
  {
   "cell_type": "code",
   "execution_count": 16,
   "metadata": {
    "scrolled": true
   },
   "outputs": [],
   "source": [
    "ch = pd.read_csv(\"dataset/challenge.csv\", encoding=\"utf-8\")\n",
    "cr = pd.read_csv(\"dataset/creative.csv\", encoding=\"utf-8\")\n",
    "t = pd.read_csv(\"dataset/teamwork.csv\", encoding=\"utf-8\")"
   ]
  },
  {
   "cell_type": "code",
   "execution_count": 20,
   "metadata": {},
   "outputs": [
    {
     "data": {
      "text/html": [
       "<div>\n",
       "<style scoped>\n",
       "    .dataframe tbody tr th:only-of-type {\n",
       "        vertical-align: middle;\n",
       "    }\n",
       "\n",
       "    .dataframe tbody tr th {\n",
       "        vertical-align: top;\n",
       "    }\n",
       "\n",
       "    .dataframe thead th {\n",
       "        text-align: right;\n",
       "    }\n",
       "</style>\n",
       "<table border=\"1\" class=\"dataframe\">\n",
       "  <thead>\n",
       "    <tr style=\"text-align: right;\">\n",
       "      <th></th>\n",
       "      <th>document</th>\n",
       "      <th>label</th>\n",
       "    </tr>\n",
       "  </thead>\n",
       "  <tbody>\n",
       "    <tr>\n",
       "      <th>0</th>\n",
       "      <td>도전    이에 김태호 PD가 준비 중인 새로운 프로그램이 MBC  무한도전 의 빈...</td>\n",
       "      <td>1</td>\n",
       "    </tr>\n",
       "    <tr>\n",
       "      <th>1</th>\n",
       "      <td>무한도전  종영 이후 1년</td>\n",
       "      <td>1</td>\n",
       "    </tr>\n",
       "    <tr>\n",
       "      <th>2</th>\n",
       "      <td>박성현, LPGA투어 2개 대회 연속 우승 도전 세계 1위를 탈환한 박성현은 3월...</td>\n",
       "      <td>1</td>\n",
       "    </tr>\n",
       "    <tr>\n",
       "      <th>3</th>\n",
       "      <td>헬스와 빅데이터 등 미래 먹거리 산업에 대한 혁신적 아이디어와 도전정신이 부족했다</td>\n",
       "      <td>1</td>\n",
       "    </tr>\n",
       "    <tr>\n",
       "      <th>4</th>\n",
       "      <td>빅 석세스 에 도전하는 벤처생태계 조성이 절실하다는 것이다</td>\n",
       "      <td>1</td>\n",
       "    </tr>\n",
       "  </tbody>\n",
       "</table>\n",
       "</div>"
      ],
      "text/plain": [
       "                                            document  label\n",
       "0  도전    이에 김태호 PD가 준비 중인 새로운 프로그램이 MBC  무한도전 의 빈...      1\n",
       "1                                     무한도전  종영 이후 1년      1\n",
       "2   박성현, LPGA투어 2개 대회 연속 우승 도전 세계 1위를 탈환한 박성현은 3월...      1\n",
       "3      헬스와 빅데이터 등 미래 먹거리 산업에 대한 혁신적 아이디어와 도전정신이 부족했다      1\n",
       "4                   빅 석세스 에 도전하는 벤처생태계 조성이 절실하다는 것이다      1"
      ]
     },
     "execution_count": 20,
     "metadata": {},
     "output_type": "execute_result"
    }
   ],
   "source": [
    "ch[\"label\"]= 1\n",
    "ch.head()"
   ]
  },
  {
   "cell_type": "code",
   "execution_count": 21,
   "metadata": {},
   "outputs": [
    {
     "data": {
      "text/html": [
       "<div>\n",
       "<style scoped>\n",
       "    .dataframe tbody tr th:only-of-type {\n",
       "        vertical-align: middle;\n",
       "    }\n",
       "\n",
       "    .dataframe tbody tr th {\n",
       "        vertical-align: top;\n",
       "    }\n",
       "\n",
       "    .dataframe thead th {\n",
       "        text-align: right;\n",
       "    }\n",
       "</style>\n",
       "<table border=\"1\" class=\"dataframe\">\n",
       "  <thead>\n",
       "    <tr style=\"text-align: right;\">\n",
       "      <th></th>\n",
       "      <th>document</th>\n",
       "      <th>label</th>\n",
       "    </tr>\n",
       "  </thead>\n",
       "  <tbody>\n",
       "    <tr>\n",
       "      <th>0</th>\n",
       "      <td>창의\\t올해 처음으로 열린 계절발표회에서는 황금연 경희대 교수가 대행 선사의 수행관...</td>\n",
       "      <td>2</td>\n",
       "    </tr>\n",
       "    <tr>\n",
       "      <th>1</th>\n",
       "      <td>김인유 기자 = 경기 수원시가 2022년 개장하려는  수원수목원 을 독창적인 수목...</td>\n",
       "      <td>2</td>\n",
       "    </tr>\n",
       "    <tr>\n",
       "      <th>2</th>\n",
       "      <td>페스티벌  공연 모습  KT&amp;G는  상상마당 이라는 문화 플랫폼을 만들어 독창적이면...</td>\n",
       "      <td>2</td>\n",
       "    </tr>\n",
       "    <tr>\n",
       "      <th>3</th>\n",
       "      <td>이처럼 세계적 작가의 원작 소설을 독창적으로 재해석하여 전 세계 평단과 관객의 사...</td>\n",
       "      <td>2</td>\n",
       "    </tr>\n",
       "    <tr>\n",
       "      <th>4</th>\n",
       "      <td>경기 수원시가 오는 2022년 개장하려는  수원수목원 을 독창적인 수목원으로 조성하...</td>\n",
       "      <td>2</td>\n",
       "    </tr>\n",
       "  </tbody>\n",
       "</table>\n",
       "</div>"
      ],
      "text/plain": [
       "                                            document  label\n",
       "0  창의\\t올해 처음으로 열린 계절발표회에서는 황금연 경희대 교수가 대행 선사의 수행관...      2\n",
       "1   김인유 기자 = 경기 수원시가 2022년 개장하려는  수원수목원 을 독창적인 수목...      2\n",
       "2  페스티벌  공연 모습  KT&G는  상상마당 이라는 문화 플랫폼을 만들어 독창적이면...      2\n",
       "3   이처럼 세계적 작가의 원작 소설을 독창적으로 재해석하여 전 세계 평단과 관객의 사...      2\n",
       "4  경기 수원시가 오는 2022년 개장하려는  수원수목원 을 독창적인 수목원으로 조성하...      2"
      ]
     },
     "execution_count": 21,
     "metadata": {},
     "output_type": "execute_result"
    }
   ],
   "source": [
    "cr[\"label\"]= 2\n",
    "cr.head()"
   ]
  },
  {
   "cell_type": "code",
   "execution_count": 22,
   "metadata": {},
   "outputs": [
    {
     "data": {
      "text/html": [
       "<div>\n",
       "<style scoped>\n",
       "    .dataframe tbody tr th:only-of-type {\n",
       "        vertical-align: middle;\n",
       "    }\n",
       "\n",
       "    .dataframe tbody tr th {\n",
       "        vertical-align: top;\n",
       "    }\n",
       "\n",
       "    .dataframe thead th {\n",
       "        text-align: right;\n",
       "    }\n",
       "</style>\n",
       "<table border=\"1\" class=\"dataframe\">\n",
       "  <thead>\n",
       "    <tr style=\"text-align: right;\">\n",
       "      <th></th>\n",
       "      <th>document</th>\n",
       "      <th>label</th>\n",
       "    </tr>\n",
       "  </thead>\n",
       "  <tbody>\n",
       "    <tr>\n",
       "      <th>0</th>\n",
       "      <td>팀워크\\t사진=삼화네트웍스 제공  열혈사제 가 배우, 스태프 할 것 없이 끈끈한 팀...</td>\n",
       "      <td>3</td>\n",
       "    </tr>\n",
       "    <tr>\n",
       "      <th>1</th>\n",
       "      <td>열혈사제  배우들이 완벽한 팀워크를 보여주고 있다</td>\n",
       "      <td>3</td>\n",
       "    </tr>\n",
       "    <tr>\n",
       "      <th>2</th>\n",
       "      <td>완벽한 하모니를 이루는  열혈사제  배우들의 호흡은 끈끈한 팀워크에서 나온다고 할...</td>\n",
       "      <td>3</td>\n",
       "    </tr>\n",
       "    <tr>\n",
       "      <th>3</th>\n",
       "      <td>유사시 특정 지역에서의 전시 임무 수행 절차를 숙달하고, 연합작전 수행을 위한 팀워...</td>\n",
       "      <td>3</td>\n",
       "    </tr>\n",
       "    <tr>\n",
       "      <th>4</th>\n",
       "      <td>해치 의 정일우-권율-박훈-한상진이 최강 팀워크의 정석을 뽐내는 모습이 포착됐다</td>\n",
       "      <td>3</td>\n",
       "    </tr>\n",
       "  </tbody>\n",
       "</table>\n",
       "</div>"
      ],
      "text/plain": [
       "                                            document  label\n",
       "0  팀워크\\t사진=삼화네트웍스 제공  열혈사제 가 배우, 스태프 할 것 없이 끈끈한 팀...      3\n",
       "1                        열혈사제  배우들이 완벽한 팀워크를 보여주고 있다      3\n",
       "2   완벽한 하모니를 이루는  열혈사제  배우들의 호흡은 끈끈한 팀워크에서 나온다고 할...      3\n",
       "3  유사시 특정 지역에서의 전시 임무 수행 절차를 숙달하고, 연합작전 수행을 위한 팀워...      3\n",
       "4       해치 의 정일우-권율-박훈-한상진이 최강 팀워크의 정석을 뽐내는 모습이 포착됐다      3"
      ]
     },
     "execution_count": 22,
     "metadata": {},
     "output_type": "execute_result"
    }
   ],
   "source": [
    "t[\"label\"]= 3\n",
    "t.head()"
   ]
  },
  {
   "cell_type": "code",
   "execution_count": 23,
   "metadata": {},
   "outputs": [],
   "source": [
    "data = ch.append(cr)"
   ]
  },
  {
   "cell_type": "code",
   "execution_count": 24,
   "metadata": {},
   "outputs": [],
   "source": [
    "data = data.append(t)"
   ]
  },
  {
   "cell_type": "code",
   "execution_count": 25,
   "metadata": {},
   "outputs": [],
   "source": [
    "import numpy as np\n",
    "from sklearn.model_selection import train_test_split"
   ]
  },
  {
   "cell_type": "code",
   "execution_count": 26,
   "metadata": {},
   "outputs": [],
   "source": [
    "train, test = train_test_split(data, test_size=0.33, random_state=42)"
   ]
  },
  {
   "cell_type": "code",
   "execution_count": 27,
   "metadata": {},
   "outputs": [
    {
     "name": "stderr",
     "output_type": "stream",
     "text": [
      "/Users/leesunhong/anaconda3/lib/python3.6/site-packages/ipykernel_launcher.py:1: SettingWithCopyWarning: \n",
      "A value is trying to be set on a copy of a slice from a DataFrame.\n",
      "Try using .loc[row_indexer,col_indexer] = value instead\n",
      "\n",
      "See the caveats in the documentation: http://pandas.pydata.org/pandas-docs/stable/indexing.html#indexing-view-versus-copy\n",
      "  \"\"\"Entry point for launching an IPython kernel.\n"
     ]
    }
   ],
   "source": [
    "train[\"label\"] = pd.Categorical(train[\"label\"])"
   ]
  },
  {
   "cell_type": "code",
   "execution_count": 28,
   "metadata": {},
   "outputs": [
    {
     "data": {
      "text/html": [
       "<div>\n",
       "<style scoped>\n",
       "    .dataframe tbody tr th:only-of-type {\n",
       "        vertical-align: middle;\n",
       "    }\n",
       "\n",
       "    .dataframe tbody tr th {\n",
       "        vertical-align: top;\n",
       "    }\n",
       "\n",
       "    .dataframe thead th {\n",
       "        text-align: right;\n",
       "    }\n",
       "</style>\n",
       "<table border=\"1\" class=\"dataframe\">\n",
       "  <thead>\n",
       "    <tr style=\"text-align: right;\">\n",
       "      <th></th>\n",
       "      <th>document</th>\n",
       "    </tr>\n",
       "    <tr>\n",
       "      <th>label</th>\n",
       "      <th></th>\n",
       "    </tr>\n",
       "  </thead>\n",
       "  <tbody>\n",
       "    <tr>\n",
       "      <th>1</th>\n",
       "      <td>29042</td>\n",
       "    </tr>\n",
       "    <tr>\n",
       "      <th>2</th>\n",
       "      <td>26219</td>\n",
       "    </tr>\n",
       "    <tr>\n",
       "      <th>3</th>\n",
       "      <td>29360</td>\n",
       "    </tr>\n",
       "  </tbody>\n",
       "</table>\n",
       "</div>"
      ],
      "text/plain": [
       "       document\n",
       "label          \n",
       "1         29042\n",
       "2         26219\n",
       "3         29360"
      ]
     },
     "execution_count": 28,
     "metadata": {},
     "output_type": "execute_result"
    }
   ],
   "source": [
    "train.groupby(\"label\").count()"
   ]
  },
  {
   "cell_type": "code",
   "execution_count": 29,
   "metadata": {},
   "outputs": [
    {
     "data": {
      "text/html": [
       "<div>\n",
       "<style scoped>\n",
       "    .dataframe tbody tr th:only-of-type {\n",
       "        vertical-align: middle;\n",
       "    }\n",
       "\n",
       "    .dataframe tbody tr th {\n",
       "        vertical-align: top;\n",
       "    }\n",
       "\n",
       "    .dataframe thead th {\n",
       "        text-align: right;\n",
       "    }\n",
       "</style>\n",
       "<table border=\"1\" class=\"dataframe\">\n",
       "  <thead>\n",
       "    <tr style=\"text-align: right;\">\n",
       "      <th></th>\n",
       "      <th>document</th>\n",
       "    </tr>\n",
       "    <tr>\n",
       "      <th>label</th>\n",
       "      <th></th>\n",
       "    </tr>\n",
       "  </thead>\n",
       "  <tbody>\n",
       "    <tr>\n",
       "      <th>1</th>\n",
       "      <td>14391</td>\n",
       "    </tr>\n",
       "    <tr>\n",
       "      <th>2</th>\n",
       "      <td>12882</td>\n",
       "    </tr>\n",
       "    <tr>\n",
       "      <th>3</th>\n",
       "      <td>14407</td>\n",
       "    </tr>\n",
       "  </tbody>\n",
       "</table>\n",
       "</div>"
      ],
      "text/plain": [
       "       document\n",
       "label          \n",
       "1         14391\n",
       "2         12882\n",
       "3         14407"
      ]
     },
     "execution_count": 29,
     "metadata": {},
     "output_type": "execute_result"
    }
   ],
   "source": [
    "test.groupby(\"label\").count()"
   ]
  },
  {
   "cell_type": "code",
   "execution_count": 30,
   "metadata": {},
   "outputs": [],
   "source": [
    "from konlpy.tag import Okt\n",
    "from sklearn.feature_extraction.text import CountVectorizer\n",
    "\n",
    "f = open('dataset/stopwords.csv', 'r', encoding='utf-8')\n",
    "reader = csv.reader(f)\n",
    "stopwords = list()\n",
    "\n",
    "for row in reader:\n",
    "    stopwords.append(row[0])"
   ]
  },
  {
   "cell_type": "code",
   "execution_count": 31,
   "metadata": {},
   "outputs": [],
   "source": [
    "okt = Okt()\n",
    "\n",
    "def get_noun(raw, pos=[\"Noun\"], stopword=stopwords):\n",
    "    return [\n",
    "        word for word, tag in okt.pos(\n",
    "            raw, \n",
    "            norm=True,   # normalize 정제 과정\n",
    "            stem=True    # stemming 정제 과정\n",
    "            )\n",
    "            if len(word) > 1 and tag in pos and word not in stopword\n",
    "        ]\n"
   ]
  },
  {
   "cell_type": "code",
   "execution_count": 32,
   "metadata": {},
   "outputs": [],
   "source": [
    "cv = CountVectorizer(tokenizer=get_noun)"
   ]
  },
  {
   "cell_type": "code",
   "execution_count": 33,
   "metadata": {},
   "outputs": [],
   "source": [
    "tdm = cv.fit_transform(train[\"document\"])"
   ]
  },
  {
   "cell_type": "code",
   "execution_count": 34,
   "metadata": {},
   "outputs": [
    {
     "name": "stderr",
     "output_type": "stream",
     "text": [
      "/Users/leesunhong/anaconda3/lib/python3.6/site-packages/sklearn/linear_model/stochastic_gradient.py:117: DeprecationWarning: n_iter parameter is deprecated in 0.19 and will be removed in 0.21. Use max_iter and tol instead.\n",
      "  DeprecationWarning)\n"
     ]
    }
   ],
   "source": [
    "from sklearn.feature_extraction.text import CountVectorizer\n",
    "from sklearn.feature_extraction.text import TfidfTransformer\n",
    "from sklearn.linear_model import SGDClassifier\n",
    "from sklearn.pipeline import Pipeline\n",
    "\n",
    "text_clf_svm = Pipeline([('vect', CountVectorizer(tokenizer=get_noun)),\n",
    "                         ('tfidf', TfidfTransformer()),\n",
    "                         ('clf-svm', SGDClassifier(loss='hinge', penalty='l2', alpha=1e-3, n_iter=5, random_state=42))])\n",
    "\n",
    "text_clf_svm = text_clf_svm.fit(train[\"document\"], train[\"label\"])"
   ]
  },
  {
   "cell_type": "code",
   "execution_count": 35,
   "metadata": {},
   "outputs": [
    {
     "data": {
      "text/plain": [
       "0.8177303262955854"
      ]
     },
     "execution_count": 35,
     "metadata": {},
     "output_type": "execute_result"
    }
   ],
   "source": [
    "predicted_svm = text_clf_svm.predict(test[\"document\"])\n",
    "np.mean(predicted_svm == test[\"label\"])"
   ]
  },
  {
   "cell_type": "code",
   "execution_count": 36,
   "metadata": {},
   "outputs": [
    {
     "data": {
      "text/plain": [
       "array([3])"
      ]
     },
     "execution_count": 36,
     "metadata": {},
     "output_type": "execute_result"
    }
   ],
   "source": [
    " text_clf_svm.predict([\"팀워크를 중요시하는 사람입니다.\"])"
   ]
  },
  {
   "cell_type": "code",
   "execution_count": 37,
   "metadata": {},
   "outputs": [
    {
     "data": {
      "text/plain": [
       "array([1])"
      ]
     },
     "execution_count": 37,
     "metadata": {},
     "output_type": "execute_result"
    }
   ],
   "source": [
    "text_clf_svm.predict([\"도전적인 목표를 가지고 살았습니다\"])"
   ]
  },
  {
   "cell_type": "code",
   "execution_count": 38,
   "metadata": {},
   "outputs": [
    {
     "data": {
      "text/plain": [
       "array([2])"
      ]
     },
     "execution_count": 38,
     "metadata": {},
     "output_type": "execute_result"
    }
   ],
   "source": [
    "text_clf_svm.predict([\"창의적인 활동을 좋아합니다\"])"
   ]
  },
  {
   "cell_type": "code",
   "execution_count": 41,
   "metadata": {},
   "outputs": [
    {
     "data": {
      "text/plain": [
       "array([1])"
      ]
     },
     "execution_count": 41,
     "metadata": {},
     "output_type": "execute_result"
    }
   ],
   "source": [
    "text_clf_svm.predict([\"[열정을 갖고 끊임없이 노력하는 사람] 우선 주어진 일에 실패를 두려워하지 않고 끊임없이 도전하는 것입니다. 노력은 배신하지 않는다고 생각합니다. 주어진 일에 관한 분야의 역량을 함양하고자 시간 투자를 계속해서 쏟으며, 그 일을 반복하여 제 것으로 만듭니다. 저는 지금도 현재 진행형이며, 미래에도 멈추지 않고 달려 나가는 인재가 되고 싶습니다. 항상 배우고자 하고, 저 자신에게 나태해지지 않는 마음가짐으로 모든 일을 대할 것입니다. 팀 내부에서 저의 역할이 무엇인지 먼저 이해하고 팀원 간의 협력을 가장 중요시 여길 것입니다. 팀 프로젝트를 진행 할 때 가장 중요한 것은 팀원 간의 조화라고 생각하기 때문입니다. 이를 통해 어제보다 오늘의 제가, 오늘보다 내일의 제가 더 나은 사람이길 바랍니다. 안주하는 삶에 만족하지 않고 저의 가능성을 최대로 발휘하고 싶습니다. CJ올리브네트웍스에서도 발전하는 IT서비스와 시스템을 개발, 운영하기 위해 항상 새로운 도전에 주저없이 뛰어들겠습니다.\"])\n"
   ]
  },
  {
   "cell_type": "code",
   "execution_count": null,
   "metadata": {},
   "outputs": [],
   "source": []
  }
 ],
 "metadata": {
  "kernelspec": {
   "display_name": "Python 3",
   "language": "python",
   "name": "python3"
  },
  "language_info": {
   "codemirror_mode": {
    "name": "ipython",
    "version": 3
   },
   "file_extension": ".py",
   "mimetype": "text/x-python",
   "name": "python",
   "nbconvert_exporter": "python",
   "pygments_lexer": "ipython3",
   "version": "3.6.4"
  }
 },
 "nbformat": 4,
 "nbformat_minor": 2
}
