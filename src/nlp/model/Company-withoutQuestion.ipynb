{
 "cells": [
  {
   "cell_type": "code",
   "execution_count": 48,
   "metadata": {},
   "outputs": [],
   "source": [
    "from predict_utils import tokenizer, openStopword, openModel, vectorize\n",
    "from konlpy.tag import Okt\n",
    "import pandas as pd\n",
    "import numpy as np\n",
    "import csv\n",
    "import pickle\n",
    "import joblib\n",
    "\n",
    "samsung_csv = pd.read_csv('dataset/Samsung_noQuestion.csv', encoding=\"utf-8\")\n",
    "hyundai_csv = pd.read_csv('dataset/Hyundai_noQuestion.csv', encoding=\"utf-8\")\n",
    "CJ_csv = pd.read_csv('dataset/CJ_noQuestion.csv', encoding=\"utf-8\")\n",
    "SK_csv = pd.read_csv('dataset/SK_noQuestion.csv', encoding=\"utf-8\")\n",
    "LG_csv = pd.read_csv('dataset/LG_noQuestion.csv', encoding=\"utf-8\")\n"
   ]
  },
  {
   "cell_type": "code",
   "execution_count": 49,
   "metadata": {},
   "outputs": [],
   "source": [
    "\n",
    "for i in range (0, len(samsung_csv)):\n",
    "    samsung_csv[\"document\"][i] = samsung_csv[\"document\"][i].replace(\"\\n\\r\",\"\").replace(\"\\r\",\"\")\n",
    "    \n",
    "for i in range (0, len(hyundai_csv)):\n",
    "    hyundai_csv[\"document\"][i] = hyundai_csv[\"document\"][i].replace(\"\\n\\r\",\"\").replace(\"\\r\",\"\")\n",
    "    \n",
    "for i in range (0, len(CJ_csv)):\n",
    "    CJ_csv[\"document\"][i] = CJ_csv[\"document\"][i].replace(\"\\n\\r\",\"\").replace(\"\\r\",\"\")\n",
    "    \n",
    "for i in range (0, len(SK_csv)):\n",
    "    SK_csv[\"document\"][i] = SK_csv[\"document\"][i].replace(\"\\n\\r\",\"\").replace(\"\\r\",\"\")\n",
    "    \n",
    "\n",
    "for i in range (0, len(LG_csv)):\n",
    "    LG_csv[\"document\"][i] = LG_csv[\"document\"][i].replace(\"\\n\\r\",\"\").replace(\"\\r\",\"\")\n",
    "\n",
    "\n"
   ]
  },
  {
   "cell_type": "code",
   "execution_count": 50,
   "metadata": {},
   "outputs": [],
   "source": [
    "samsung_csv[\"label\"] = \"samsung\"\n",
    "hyundai_csv[\"label\"] = \"hyundai\"\n",
    "CJ_csv[\"label\"] = \"CJ\"\n",
    "SK_csv[\"label\"] = \"SK\"\n",
    "LG_csv[\"label\"] = \"LG\""
   ]
  },
  {
   "cell_type": "code",
   "execution_count": null,
   "metadata": {},
   "outputs": [],
   "source": []
  },
  {
   "cell_type": "code",
   "execution_count": 51,
   "metadata": {},
   "outputs": [],
   "source": [
    "okt = Okt()\n",
    "\n",
    "all_data = samsung_csv.append(hyundai_csv).append(CJ_csv).append(SK_csv).append(LG_csv)\n"
   ]
  },
  {
   "cell_type": "code",
   "execution_count": 52,
   "metadata": {},
   "outputs": [],
   "source": [
    "from sklearn.model_selection import train_test_split\n",
    "train, test = train_test_split(all_data, test_size=0.33, random_state=42)"
   ]
  },
  {
   "cell_type": "code",
   "execution_count": 53,
   "metadata": {},
   "outputs": [],
   "source": [
    "from sklearn.feature_extraction.text import TfidfVectorizer\n",
    "from sklearn.feature_extraction.text import TfidfTransformer\n",
    "from sklearn.linear_model import SGDClassifier\n",
    "from sklearn.pipeline import Pipeline\n",
    "from sklearn.multiclass import OneVsRestClassifier\n",
    "from sklearn.svm import LinearSVC\n",
    "from sklearn.svm import SVC"
   ]
  },
  {
   "cell_type": "code",
   "execution_count": 44,
   "metadata": {},
   "outputs": [
    {
     "data": {
      "text/plain": [
       "['Company_SVM_2.joblib']"
      ]
     },
     "execution_count": 44,
     "metadata": {},
     "output_type": "execute_result"
    }
   ],
   "source": [
    "#SVM 모델\n",
    "\n",
    "text_clf_svm = Pipeline([\n",
    "    ('vect', vectorize),\n",
    "    ('tfidf', TfidfTransformer()),\n",
    "    ('clf-svm', SGDClassifier(loss='hinge', penalty='l2', alpha=1e-3, max_iter=1000, random_state=42))]) # 손실함수 기댓값 최소화\n",
    "\n",
    "text_clf_svm = text_clf_svm.fit(train[\"document\"].apply(lambda x: np.str_(x)), train[\"label\"])\n",
    "\n",
    "joblib.dump(text_clf_svm, 'Company_SVM_2.joblib')"
   ]
  },
  {
   "cell_type": "code",
   "execution_count": 45,
   "metadata": {},
   "outputs": [],
   "source": [
    "train = np.mean(text_clf_svm.predict(train[\"document\"].apply(lambda x: np.str_(x))) == train[\"label\"])\n",
    "test = np.mean(text_clf_svm.predict(test[\"document\"].apply(lambda x: np.str_(x))) == test[\"label\"])"
   ]
  },
  {
   "cell_type": "code",
   "execution_count": 46,
   "metadata": {},
   "outputs": [],
   "source": [
    "with open('Company_SVM_2.txt', 'w') as f:\n",
    "    f.write(str(train))\n",
    "    f.write(str(test))\n",
    "    f.close()"
   ]
  },
  {
   "cell_type": "code",
   "execution_count": null,
   "metadata": {},
   "outputs": [],
   "source": [
    "# SVC (ver. prob, gamma='scale')\n",
    "SVC_PROB_pipeline = Pipeline([\n",
    "                ('tfidf', vectorize),\n",
    "                ('clf', OneVsRestClassifier(SVC(probability=True, gamma='scale'), n_jobs=1))])\n",
    "\n",
    "text_clf_svc_prob = SVC_PROB_pipeline.fit(train[\"document\"].apply(lambda x: np.str_(x)), train[\"label\"])\n",
    "\n",
    "\n",
    "joblib.dump(text_clf_svc_prob, 'Company_SVC_scale.j_2oblib')"
   ]
  },
  {
   "cell_type": "code",
   "execution_count": null,
   "metadata": {},
   "outputs": [],
   "source": [
    "train = np.mean(text_clf_svc_prob.predict(train[\"document\"].apply(lambda x: np.str_(x))) == train[\"label\"])\n",
    "test = np.mean(text_clf_svc_prob.predict(test[\"document\"].apply(lambda x: np.str_(x))) == test[\"label\"])"
   ]
  },
  {
   "cell_type": "code",
   "execution_count": null,
   "metadata": {},
   "outputs": [],
   "source": [
    "with open('Company_SVC_scale_2.txt', 'w') as f:\n",
    "    f.write(str(train))\n",
    "    f.write(str(test))\n",
    "    f.close()"
   ]
  },
  {
   "cell_type": "code",
   "execution_count": null,
   "metadata": {},
   "outputs": [],
   "source": [
    "\n",
    "# SVC (ver. prob, gamma='auto')\n",
    "SVC_PROB_pipeline = Pipeline([\n",
    "                ('tfidf', vectorize),\n",
    "                ('clf', OneVsRestClassifier(SVC(probability=True, gamma='auto'), n_jobs=1)), # n_jobs = -1 로 하면 오류남.\n",
    "            ])\n",
    "text_clf_svc_prob = SVC_PROB_pipeline.fit(train[\"document\"].apply(lambda x: np.str_(x)), train[\"label\"])\n",
    "\n",
    "joblib.dump(text_clf_svc_prob, 'Company_SVC_auto_2.joblib')"
   ]
  },
  {
   "cell_type": "markdown",
   "metadata": {},
   "source": [
    "##### train = np.mean(text_clf_svc_prob.predict(train[\"document\"].apply(lambda x: np.str_(x))) == train[\"label\"])\n",
    "test = np.mean(text_clf_svc_prob.predict(test[\"document\"].apply(lambda x: np.str_(x))) == test[\"label\"])"
   ]
  },
  {
   "cell_type": "code",
   "execution_count": null,
   "metadata": {},
   "outputs": [],
   "source": [
    "with open('Company_SVC_auto_2.txt', 'w') as f:\n",
    "    f.write(str(train))\n",
    "    f.write(str(test))\n",
    "    f.close()"
   ]
  },
  {
   "cell_type": "code",
   "execution_count": 6,
   "metadata": {},
   "outputs": [
    {
     "data": {
      "text/plain": [
       "['CalibratedClassifierCV=10.joblib']"
      ]
     },
     "execution_count": 6,
     "metadata": {},
     "output_type": "execute_result"
    }
   ],
   "source": [
    "from sklearn.svm import LinearSVC\n",
    "from sklearn.calibration import CalibratedClassifierCV\n",
    "# CalibratedClassifierCV, cv=10\n",
    "SVC_pipeline_Calibrated = Pipeline([\n",
    "                ('tfidf',vectorize),\n",
    "                ('clf', CalibratedClassifierCV(LinearSVC(), cv=10))\n",
    "            ])\n",
    "clf_svc_calibrated = SVC_pipeline_Calibrated.fit(train[\"document\"].apply(lambda x: np.str_(x)), train[\"label\"])\n",
    "\n",
    "joblib.dump(clf_svc_calibrated, 'CalibratedClassifierCV=10_2.joblib')"
   ]
  },
  {
   "cell_type": "code",
   "execution_count": null,
   "metadata": {},
   "outputs": [],
   "source": [
    "train = np.mean(clf_svc_calibrated.predict(train[\"document\"].apply(lambda x: np.str_(x))) == train[\"label\"])\n",
    "test = np.mean(clf_svc_calibrated.predict(test[\"document\"].apply(lambda x: np.str_(x))) == test[\"label\"])"
   ]
  },
  {
   "cell_type": "code",
   "execution_count": null,
   "metadata": {},
   "outputs": [],
   "source": [
    "with open('CalibratedClassifierCV=10_2.txt', 'w') as f:\n",
    "    f.write(str(train))\n",
    "    f.write(str(test))\n",
    "    f.close()"
   ]
  },
  {
   "cell_type": "code",
   "execution_count": 5,
   "metadata": {},
   "outputs": [
    {
     "data": {
      "text/plain": [
       "['CalibratedClassifierCV=5.joblib']"
      ]
     },
     "execution_count": 5,
     "metadata": {},
     "output_type": "execute_result"
    }
   ],
   "source": [
    "from sklearn.svm import LinearSVC\n",
    "from sklearn.calibration import CalibratedClassifierCV\n",
    "#CalibratedClassifierCV, cv=5\n",
    "SVC_pipeline_Calibrated = Pipeline([\n",
    "                ('tfidf',vectorize),\n",
    "                ('clf', CalibratedClassifierCV(LinearSVC(), cv=5))\n",
    "            ])\n",
    "clf_svc_calibrated = SVC_pipeline_Calibrated.fit(train[\"document\"].apply(lambda x: np.str_(x)), train[\"label\"])\n",
    "\n",
    "joblib.dump(clf_svc_calibrated, 'CalibratedClassifierCV=5_2.joblib')"
   ]
  },
  {
   "cell_type": "code",
   "execution_count": null,
   "metadata": {},
   "outputs": [],
   "source": [
    "train = np.mean(clf_svc_calibrated.predict(train[\"document\"].apply(lambda x: np.str_(x))) == train[\"label\"])\n",
    "test = np.mean(clf_svc_calibrated.predict(test[\"document\"].apply(lambda x: np.str_(x))) == test[\"label\"])"
   ]
  },
  {
   "cell_type": "code",
   "execution_count": null,
   "metadata": {},
   "outputs": [],
   "source": [
    "with open('CalibratedClassifierCV=5_2.txt', 'w') as f:\n",
    "    f.write(str(train))\n",
    "    f.write(str(test))\n",
    "    f.close()"
   ]
  },
  {
   "cell_type": "code",
   "execution_count": 5,
   "metadata": {},
   "outputs": [
    {
     "data": {
      "text/plain": [
       "['SVC_kernel_Linear.joblib']"
      ]
     },
     "execution_count": 5,
     "metadata": {},
     "output_type": "execute_result"
    }
   ],
   "source": [
    "#SVC(kernel ='Linear', gamma = ‘scale’)\n",
    "from sklearn.svm import LinearSVC\n",
    "from sklearn.calibration import CalibratedClassifierCV\n",
    "\n",
    "SVC_pipeline_Linear = Pipeline([\n",
    "                ('tfidf', vectorize),\n",
    "                ('clf', OneVsRestClassifier(SVC(kernel='linear', probability=True, class_weight='balanced', gamma = 'scale'), n_jobs=1))\n",
    "            ])\n",
    "clf_svc_linear = SVC_pipeline_Linear.fit(train[\"document\"].apply(lambda x: np.str_(x)), train[\"label\"])\n",
    "\n",
    "joblib.dump(clf_svc_linear, 'SVC_kernel_Linear_2.joblib')"
   ]
  },
  {
   "cell_type": "code",
   "execution_count": null,
   "metadata": {},
   "outputs": [],
   "source": [
    "train = np.mean(clf_svc_linear.predict(train[\"document\"].apply(lambda x: np.str_(x))) == train[\"label\"])\n",
    "test = np.mean(clf_svc_linear.predict(test[\"document\"].apply(lambda x: np.str_(x))) == test[\"label\"])"
   ]
  },
  {
   "cell_type": "code",
   "execution_count": null,
   "metadata": {},
   "outputs": [],
   "source": [
    "with open('SVC_kernel_Linear_2.txt', 'w') as f:\n",
    "    f.write(str(train))\n",
    "    f.write(str(test))\n",
    "    f.close()"
   ]
  },
  {
   "cell_type": "code",
   "execution_count": null,
   "metadata": {},
   "outputs": [],
   "source": []
  },
  {
   "cell_type": "code",
   "execution_count": null,
   "metadata": {},
   "outputs": [],
   "source": []
  }
 ],
 "metadata": {
  "kernelspec": {
   "display_name": "Python 3",
   "language": "python",
   "name": "python3"
  },
  "language_info": {
   "codemirror_mode": {
    "name": "ipython",
    "version": 3
   },
   "file_extension": ".py",
   "mimetype": "text/x-python",
   "name": "python",
   "nbconvert_exporter": "python",
   "pygments_lexer": "ipython3",
   "version": "3.6.8"
  }
 },
 "nbformat": 4,
 "nbformat_minor": 2
}
