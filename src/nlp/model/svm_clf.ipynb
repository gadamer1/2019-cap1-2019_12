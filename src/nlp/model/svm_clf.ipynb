{
 "cells": [
  {
   "cell_type": "code",
   "execution_count": 1,
   "metadata": {},
   "outputs": [
    {
     "data": {
      "text/html": [
       "<div>\n",
       "<style scoped>\n",
       "    .dataframe tbody tr th:only-of-type {\n",
       "        vertical-align: middle;\n",
       "    }\n",
       "\n",
       "    .dataframe tbody tr th {\n",
       "        vertical-align: top;\n",
       "    }\n",
       "\n",
       "    .dataframe thead th {\n",
       "        text-align: right;\n",
       "    }\n",
       "</style>\n",
       "<table border=\"1\" class=\"dataframe\">\n",
       "  <thead>\n",
       "    <tr style=\"text-align: right;\">\n",
       "      <th></th>\n",
       "      <th>sentence</th>\n",
       "      <th>ability</th>\n",
       "    </tr>\n",
       "  </thead>\n",
       "  <tbody>\n",
       "    <tr>\n",
       "      <th>0</th>\n",
       "      <td>도전하고 모험하는 건 제가 원래 그런 걸 좋아한다</td>\n",
       "      <td>0</td>\n",
       "    </tr>\n",
       "    <tr>\n",
       "      <th>1</th>\n",
       "      <td>백광 권영찬 교수가 최근 한 대기업 강연에서 실패는 성공의 바로 전 단계 도전을 즐...</td>\n",
       "      <td>0</td>\n",
       "    </tr>\n",
       "    <tr>\n",
       "      <th>2</th>\n",
       "      <td>3라운드 진출팀은 비록 없었으나 한국판 칼레의 기적을 꿈꾸는 사람들의 도전은 이어질...</td>\n",
       "      <td>0</td>\n",
       "    </tr>\n",
       "    <tr>\n",
       "      <th>3</th>\n",
       "      <td>의원회관2소회의실에서 열린 31절 100주년기념 대한민국 희망 프로젝트8th 도전한...</td>\n",
       "      <td>0</td>\n",
       "    </tr>\n",
       "    <tr>\n",
       "      <th>4</th>\n",
       "      <td>지난 인도양 편에서 넘치는 자부심으로 낚시에 도전했지만 0마리의 굴욕을 맛봤던 돈스...</td>\n",
       "      <td>0</td>\n",
       "    </tr>\n",
       "  </tbody>\n",
       "</table>\n",
       "</div>"
      ],
      "text/plain": [
       "                                            sentence  ability\n",
       "0                        도전하고 모험하는 건 제가 원래 그런 걸 좋아한다        0\n",
       "1  백광 권영찬 교수가 최근 한 대기업 강연에서 실패는 성공의 바로 전 단계 도전을 즐...        0\n",
       "2  3라운드 진출팀은 비록 없었으나 한국판 칼레의 기적을 꿈꾸는 사람들의 도전은 이어질...        0\n",
       "3  의원회관2소회의실에서 열린 31절 100주년기념 대한민국 희망 프로젝트8th 도전한...        0\n",
       "4  지난 인도양 편에서 넘치는 자부심으로 낚시에 도전했지만 0마리의 굴욕을 맛봤던 돈스...        0"
      ]
     },
     "execution_count": 1,
     "metadata": {},
     "output_type": "execute_result"
    }
   ],
   "source": [
    "import os\n",
    "import pandas as pd\n",
    "\n",
    "ability_1 = pd.read_csv(\"data_in/challenge.csv\", encoding=\"utf-8\")\n",
    "ability_2 = pd.read_csv(\"data_in/communication.csv\", encoding=\"utf-8\")\n",
    "ability_3 = pd.read_csv(\"data_in/creativity.csv\", encoding=\"utf-8\")\n",
    "\n",
    "ability_1.head()"
   ]
  },
  {
   "cell_type": "code",
   "execution_count": 2,
   "metadata": {},
   "outputs": [
    {
     "data": {
      "text/html": [
       "<div>\n",
       "<style scoped>\n",
       "    .dataframe tbody tr th:only-of-type {\n",
       "        vertical-align: middle;\n",
       "    }\n",
       "\n",
       "    .dataframe tbody tr th {\n",
       "        vertical-align: top;\n",
       "    }\n",
       "\n",
       "    .dataframe thead th {\n",
       "        text-align: right;\n",
       "    }\n",
       "</style>\n",
       "<table border=\"1\" class=\"dataframe\">\n",
       "  <thead>\n",
       "    <tr style=\"text-align: right;\">\n",
       "      <th></th>\n",
       "      <th>sentence</th>\n",
       "      <th>ability</th>\n",
       "    </tr>\n",
       "  </thead>\n",
       "  <tbody>\n",
       "    <tr>\n",
       "      <th>0</th>\n",
       "      <td>소통은 막히지 아니하고 잘 통함 또는 뜻이 서로 통하여 오해가 없음을 뜻합니다. 요...</td>\n",
       "      <td>1</td>\n",
       "    </tr>\n",
       "    <tr>\n",
       "      <th>1</th>\n",
       "      <td>위원 30명이 참석한 가운데 열린 이날 행사는 위촉장 수여 공동 결의문 낭독 소통의...</td>\n",
       "      <td>1</td>\n",
       "    </tr>\n",
       "    <tr>\n",
       "      <th>2</th>\n",
       "      <td>이번 간담회를 통해 주민과의 소통 강화는 물론 지역구가 다른 의원 간 소통 강화에도...</td>\n",
       "      <td>1</td>\n",
       "    </tr>\n",
       "    <tr>\n",
       "      <th>3</th>\n",
       "      <td>소통간담회는 민선7기 군정의 성공적인 추진과 본청 및 13개 읍면의대해서는 분기별로...</td>\n",
       "      <td>1</td>\n",
       "    </tr>\n",
       "    <tr>\n",
       "      <th>4</th>\n",
       "      <td>이를 통해 고객과의 소통을 강화해 나가겠다는 전략이다</td>\n",
       "      <td>1</td>\n",
       "    </tr>\n",
       "  </tbody>\n",
       "</table>\n",
       "</div>"
      ],
      "text/plain": [
       "                                            sentence  ability\n",
       "0  소통은 막히지 아니하고 잘 통함 또는 뜻이 서로 통하여 오해가 없음을 뜻합니다. 요...        1\n",
       "1  위원 30명이 참석한 가운데 열린 이날 행사는 위촉장 수여 공동 결의문 낭독 소통의...        1\n",
       "2  이번 간담회를 통해 주민과의 소통 강화는 물론 지역구가 다른 의원 간 소통 강화에도...        1\n",
       "3  소통간담회는 민선7기 군정의 성공적인 추진과 본청 및 13개 읍면의대해서는 분기별로...        1\n",
       "4                      이를 통해 고객과의 소통을 강화해 나가겠다는 전략이다        1"
      ]
     },
     "execution_count": 2,
     "metadata": {},
     "output_type": "execute_result"
    }
   ],
   "source": [
    "ability_2.head()"
   ]
  },
  {
   "cell_type": "code",
   "execution_count": 3,
   "metadata": {},
   "outputs": [
    {
     "data": {
      "text/html": [
       "<div>\n",
       "<style scoped>\n",
       "    .dataframe tbody tr th:only-of-type {\n",
       "        vertical-align: middle;\n",
       "    }\n",
       "\n",
       "    .dataframe tbody tr th {\n",
       "        vertical-align: top;\n",
       "    }\n",
       "\n",
       "    .dataframe thead th {\n",
       "        text-align: right;\n",
       "    }\n",
       "</style>\n",
       "<table border=\"1\" class=\"dataframe\">\n",
       "  <thead>\n",
       "    <tr style=\"text-align: right;\">\n",
       "      <th></th>\n",
       "      <th>sentence</th>\n",
       "      <th>ability</th>\n",
       "    </tr>\n",
       "  </thead>\n",
       "  <tbody>\n",
       "    <tr>\n",
       "      <th>0</th>\n",
       "      <td>하지만 방법을 몰라 상상력 창의력 키우기에 그치고 있다</td>\n",
       "      <td>1</td>\n",
       "    </tr>\n",
       "    <tr>\n",
       "      <th>1</th>\n",
       "      <td>초등 창의융합체험 프로그램 모나르떼는 4차 산업혁명 시대를 맞아 분석력과 창의력을 바탕</td>\n",
       "      <td>1</td>\n",
       "    </tr>\n",
       "    <tr>\n",
       "      <th>2</th>\n",
       "      <td>이번 간담회를 통해 주민과의 소통 강화는 물론 지역구가 다른 의원 간 소통 강화에도...</td>\n",
       "      <td>1</td>\n",
       "    </tr>\n",
       "    <tr>\n",
       "      <th>3</th>\n",
       "      <td>사례 GED시스템을 활용한 관찰추천 방법 융합영재교육 프로그램 재구성의 실제 창의적...</td>\n",
       "      <td>1</td>\n",
       "    </tr>\n",
       "    <tr>\n",
       "      <th>4</th>\n",
       "      <td>프린팅 기술창업 육성과정 3D프린팅 창의교실 △찾아가는 4차산업 미래기술 등으로, ...</td>\n",
       "      <td>1</td>\n",
       "    </tr>\n",
       "  </tbody>\n",
       "</table>\n",
       "</div>"
      ],
      "text/plain": [
       "                                            sentence  ability\n",
       "0                    하지만 방법을 몰라 상상력 창의력 키우기에 그치고 있다         1\n",
       "1   초등 창의융합체험 프로그램 모나르떼는 4차 산업혁명 시대를 맞아 분석력과 창의력을 바탕        1\n",
       "2  이번 간담회를 통해 주민과의 소통 강화는 물론 지역구가 다른 의원 간 소통 강화에도...        1\n",
       "3  사례 GED시스템을 활용한 관찰추천 방법 융합영재교육 프로그램 재구성의 실제 창의적...        1\n",
       "4  프린팅 기술창업 육성과정 3D프린팅 창의교실 △찾아가는 4차산업 미래기술 등으로, ...        1"
      ]
     },
     "execution_count": 3,
     "metadata": {},
     "output_type": "execute_result"
    }
   ],
   "source": [
    "ability_3.head()"
   ]
  },
  {
   "cell_type": "code",
   "execution_count": 4,
   "metadata": {},
   "outputs": [
    {
     "data": {
      "text/html": [
       "<div>\n",
       "<style scoped>\n",
       "    .dataframe tbody tr th:only-of-type {\n",
       "        vertical-align: middle;\n",
       "    }\n",
       "\n",
       "    .dataframe tbody tr th {\n",
       "        vertical-align: top;\n",
       "    }\n",
       "\n",
       "    .dataframe thead th {\n",
       "        text-align: right;\n",
       "    }\n",
       "</style>\n",
       "<table border=\"1\" class=\"dataframe\">\n",
       "  <thead>\n",
       "    <tr style=\"text-align: right;\">\n",
       "      <th></th>\n",
       "      <th>sentence</th>\n",
       "      <th>label</th>\n",
       "    </tr>\n",
       "  </thead>\n",
       "  <tbody>\n",
       "    <tr>\n",
       "      <th>0</th>\n",
       "      <td>도전하고 모험하는 건 제가 원래 그런 걸 좋아한다</td>\n",
       "      <td>1</td>\n",
       "    </tr>\n",
       "    <tr>\n",
       "      <th>1</th>\n",
       "      <td>백광 권영찬 교수가 최근 한 대기업 강연에서 실패는 성공의 바로 전 단계 도전을 즐...</td>\n",
       "      <td>1</td>\n",
       "    </tr>\n",
       "    <tr>\n",
       "      <th>2</th>\n",
       "      <td>3라운드 진출팀은 비록 없었으나 한국판 칼레의 기적을 꿈꾸는 사람들의 도전은 이어질...</td>\n",
       "      <td>1</td>\n",
       "    </tr>\n",
       "    <tr>\n",
       "      <th>3</th>\n",
       "      <td>의원회관2소회의실에서 열린 31절 100주년기념 대한민국 희망 프로젝트8th 도전한...</td>\n",
       "      <td>1</td>\n",
       "    </tr>\n",
       "    <tr>\n",
       "      <th>4</th>\n",
       "      <td>지난 인도양 편에서 넘치는 자부심으로 낚시에 도전했지만 0마리의 굴욕을 맛봤던 돈스...</td>\n",
       "      <td>1</td>\n",
       "    </tr>\n",
       "  </tbody>\n",
       "</table>\n",
       "</div>"
      ],
      "text/plain": [
       "                                            sentence  label\n",
       "0                        도전하고 모험하는 건 제가 원래 그런 걸 좋아한다      1\n",
       "1  백광 권영찬 교수가 최근 한 대기업 강연에서 실패는 성공의 바로 전 단계 도전을 즐...      1\n",
       "2  3라운드 진출팀은 비록 없었으나 한국판 칼레의 기적을 꿈꾸는 사람들의 도전은 이어질...      1\n",
       "3  의원회관2소회의실에서 열린 31절 100주년기념 대한민국 희망 프로젝트8th 도전한...      1\n",
       "4  지난 인도양 편에서 넘치는 자부심으로 낚시에 도전했지만 0마리의 굴욕을 맛봤던 돈스...      1"
      ]
     },
     "execution_count": 4,
     "metadata": {},
     "output_type": "execute_result"
    }
   ],
   "source": [
    "a1 = pd.DataFrame(ability_1[\"sentence\"])\n",
    "a1[\"label\"] = 1\n",
    "a1.head()"
   ]
  },
  {
   "cell_type": "code",
   "execution_count": 5,
   "metadata": {},
   "outputs": [
    {
     "data": {
      "text/html": [
       "<div>\n",
       "<style scoped>\n",
       "    .dataframe tbody tr th:only-of-type {\n",
       "        vertical-align: middle;\n",
       "    }\n",
       "\n",
       "    .dataframe tbody tr th {\n",
       "        vertical-align: top;\n",
       "    }\n",
       "\n",
       "    .dataframe thead th {\n",
       "        text-align: right;\n",
       "    }\n",
       "</style>\n",
       "<table border=\"1\" class=\"dataframe\">\n",
       "  <thead>\n",
       "    <tr style=\"text-align: right;\">\n",
       "      <th></th>\n",
       "      <th>sentence</th>\n",
       "      <th>label</th>\n",
       "    </tr>\n",
       "  </thead>\n",
       "  <tbody>\n",
       "    <tr>\n",
       "      <th>0</th>\n",
       "      <td>소통은 막히지 아니하고 잘 통함 또는 뜻이 서로 통하여 오해가 없음을 뜻합니다. 요...</td>\n",
       "      <td>2</td>\n",
       "    </tr>\n",
       "    <tr>\n",
       "      <th>1</th>\n",
       "      <td>위원 30명이 참석한 가운데 열린 이날 행사는 위촉장 수여 공동 결의문 낭독 소통의...</td>\n",
       "      <td>2</td>\n",
       "    </tr>\n",
       "    <tr>\n",
       "      <th>2</th>\n",
       "      <td>이번 간담회를 통해 주민과의 소통 강화는 물론 지역구가 다른 의원 간 소통 강화에도...</td>\n",
       "      <td>2</td>\n",
       "    </tr>\n",
       "    <tr>\n",
       "      <th>3</th>\n",
       "      <td>소통간담회는 민선7기 군정의 성공적인 추진과 본청 및 13개 읍면의대해서는 분기별로...</td>\n",
       "      <td>2</td>\n",
       "    </tr>\n",
       "    <tr>\n",
       "      <th>4</th>\n",
       "      <td>이를 통해 고객과의 소통을 강화해 나가겠다는 전략이다</td>\n",
       "      <td>2</td>\n",
       "    </tr>\n",
       "  </tbody>\n",
       "</table>\n",
       "</div>"
      ],
      "text/plain": [
       "                                            sentence  label\n",
       "0  소통은 막히지 아니하고 잘 통함 또는 뜻이 서로 통하여 오해가 없음을 뜻합니다. 요...      2\n",
       "1  위원 30명이 참석한 가운데 열린 이날 행사는 위촉장 수여 공동 결의문 낭독 소통의...      2\n",
       "2  이번 간담회를 통해 주민과의 소통 강화는 물론 지역구가 다른 의원 간 소통 강화에도...      2\n",
       "3  소통간담회는 민선7기 군정의 성공적인 추진과 본청 및 13개 읍면의대해서는 분기별로...      2\n",
       "4                      이를 통해 고객과의 소통을 강화해 나가겠다는 전략이다      2"
      ]
     },
     "execution_count": 5,
     "metadata": {},
     "output_type": "execute_result"
    }
   ],
   "source": [
    "a2 = pd.DataFrame(ability_2[\"sentence\"])\n",
    "a2[\"label\"] = 2\n",
    "a2.head()"
   ]
  },
  {
   "cell_type": "code",
   "execution_count": 6,
   "metadata": {},
   "outputs": [
    {
     "data": {
      "text/html": [
       "<div>\n",
       "<style scoped>\n",
       "    .dataframe tbody tr th:only-of-type {\n",
       "        vertical-align: middle;\n",
       "    }\n",
       "\n",
       "    .dataframe tbody tr th {\n",
       "        vertical-align: top;\n",
       "    }\n",
       "\n",
       "    .dataframe thead th {\n",
       "        text-align: right;\n",
       "    }\n",
       "</style>\n",
       "<table border=\"1\" class=\"dataframe\">\n",
       "  <thead>\n",
       "    <tr style=\"text-align: right;\">\n",
       "      <th></th>\n",
       "      <th>sentence</th>\n",
       "      <th>label</th>\n",
       "    </tr>\n",
       "  </thead>\n",
       "  <tbody>\n",
       "    <tr>\n",
       "      <th>0</th>\n",
       "      <td>하지만 방법을 몰라 상상력 창의력 키우기에 그치고 있다</td>\n",
       "      <td>3</td>\n",
       "    </tr>\n",
       "    <tr>\n",
       "      <th>1</th>\n",
       "      <td>초등 창의융합체험 프로그램 모나르떼는 4차 산업혁명 시대를 맞아 분석력과 창의력을 바탕</td>\n",
       "      <td>3</td>\n",
       "    </tr>\n",
       "    <tr>\n",
       "      <th>2</th>\n",
       "      <td>이번 간담회를 통해 주민과의 소통 강화는 물론 지역구가 다른 의원 간 소통 강화에도...</td>\n",
       "      <td>3</td>\n",
       "    </tr>\n",
       "    <tr>\n",
       "      <th>3</th>\n",
       "      <td>사례 GED시스템을 활용한 관찰추천 방법 융합영재교육 프로그램 재구성의 실제 창의적...</td>\n",
       "      <td>3</td>\n",
       "    </tr>\n",
       "    <tr>\n",
       "      <th>4</th>\n",
       "      <td>프린팅 기술창업 육성과정 3D프린팅 창의교실 △찾아가는 4차산업 미래기술 등으로, ...</td>\n",
       "      <td>3</td>\n",
       "    </tr>\n",
       "  </tbody>\n",
       "</table>\n",
       "</div>"
      ],
      "text/plain": [
       "                                            sentence  label\n",
       "0                    하지만 방법을 몰라 상상력 창의력 키우기에 그치고 있다       3\n",
       "1   초등 창의융합체험 프로그램 모나르떼는 4차 산업혁명 시대를 맞아 분석력과 창의력을 바탕      3\n",
       "2  이번 간담회를 통해 주민과의 소통 강화는 물론 지역구가 다른 의원 간 소통 강화에도...      3\n",
       "3  사례 GED시스템을 활용한 관찰추천 방법 융합영재교육 프로그램 재구성의 실제 창의적...      3\n",
       "4  프린팅 기술창업 육성과정 3D프린팅 창의교실 △찾아가는 4차산업 미래기술 등으로, ...      3"
      ]
     },
     "execution_count": 6,
     "metadata": {},
     "output_type": "execute_result"
    }
   ],
   "source": [
    "a3 = pd.DataFrame(ability_3[\"sentence\"])\n",
    "a3[\"label\"] = 3\n",
    "a3.head()"
   ]
  },
  {
   "cell_type": "code",
   "execution_count": 7,
   "metadata": {},
   "outputs": [],
   "source": [
    "data = a1.append(a2)\n",
    "data = data.append(a3)\n"
   ]
  },
  {
   "cell_type": "code",
   "execution_count": 8,
   "metadata": {},
   "outputs": [
    {
     "name": "stdout",
     "output_type": "stream",
     "text": [
      "                                            sentence  label\n",
      "0                        도전하고 모험하는 건 제가 원래 그런 걸 좋아한다      1\n",
      "1  백광 권영찬 교수가 최근 한 대기업 강연에서 실패는 성공의 바로 전 단계 도전을 즐...      1\n",
      "2  3라운드 진출팀은 비록 없었으나 한국판 칼레의 기적을 꿈꾸는 사람들의 도전은 이어질...      1\n",
      "3  의원회관2소회의실에서 열린 31절 100주년기념 대한민국 희망 프로젝트8th 도전한...      1\n",
      "4  지난 인도양 편에서 넘치는 자부심으로 낚시에 도전했지만 0마리의 굴욕을 맛봤던 돈스...      1\n",
      "5       미세먼지를 없앨 수 있는 기술에 도전하는 과학기술자가 늘어날 수밖에 없는 구조다      1\n",
      "6  2007년부터 미국프로골프협회투어에 도전하는 등 빅 리그 진출을 끊임없이 꿈꿨던 그...      1\n",
      "7  과거 전설적인 예능 프로그램 근간이라고 생각하는 무한도전과 1박2일처럼 꾸려졌던 멤...      1\n",
      "0  소통은 막히지 아니하고 잘 통함 또는 뜻이 서로 통하여 오해가 없음을 뜻합니다. 요...      2\n",
      "1  위원 30명이 참석한 가운데 열린 이날 행사는 위촉장 수여 공동 결의문 낭독 소통의...      2\n",
      "2  이번 간담회를 통해 주민과의 소통 강화는 물론 지역구가 다른 의원 간 소통 강화에도...      2\n",
      "3  소통간담회는 민선7기 군정의 성공적인 추진과 본청 및 13개 읍면의대해서는 분기별로...      2\n",
      "4                      이를 통해 고객과의 소통을 강화해 나가겠다는 전략이다      2\n",
      "5  스타벅스는 새로운 콘텐츠인 스벅TV를 통해 고객과의 소통을 강화해 나갈 예정이다고 ...      2\n",
      "6  15일 두나무는 회사와 서비스 관련한 정확한 정보 제공 및 신뢰 기반의 고객 소통을...      2\n",
      "7   무역협회 경영진이 경기도를 시작으로 전국 수출현장의 목소리를 듣기 위한 소통행보에...      2\n",
      "0                    하지만 방법을 몰라 상상력 창의력 키우기에 그치고 있다       3\n",
      "1   초등 창의융합체험 프로그램 모나르떼는 4차 산업혁명 시대를 맞아 분석력과 창의력을 바탕      3\n",
      "2  이번 간담회를 통해 주민과의 소통 강화는 물론 지역구가 다른 의원 간 소통 강화에도...      3\n",
      "3  사례 GED시스템을 활용한 관찰추천 방법 융합영재교육 프로그램 재구성의 실제 창의적...      3\n",
      "4  프린팅 기술창업 육성과정 3D프린팅 창의교실 △찾아가는 4차산업 미래기술 등으로, ...      3\n",
      "5  문재인 대통령은 21일 앞선 세대가 이룩해 놓은 것들을 해체하고 새롭게 융합하는 창...      3\n",
      "6  충남창조경제혁신센터는 도내 농수산품 고부가가치 창출을 위해 포장디자인 개선과 유통 ...      3\n",
      "7        한국은 바로 기업가들이 시장 창조형 혁신을 수행했기 때문에 성공했다는 것이다.      3\n"
     ]
    }
   ],
   "source": [
    "data.shape\n",
    "print(data)"
   ]
  },
  {
   "cell_type": "code",
   "execution_count": 9,
   "metadata": {},
   "outputs": [
    {
     "name": "stdout",
     "output_type": "stream",
     "text": [
      "0    1\n",
      "1    1\n",
      "2    1\n",
      "3    1\n",
      "4    1\n",
      "5    1\n",
      "6    1\n",
      "7    1\n",
      "0    2\n",
      "1    2\n",
      "2    2\n",
      "3    2\n",
      "4    2\n",
      "5    2\n",
      "6    2\n",
      "7    2\n",
      "0    3\n",
      "1    3\n",
      "2    3\n",
      "3    3\n",
      "4    3\n",
      "5    3\n",
      "6    3\n",
      "7    3\n",
      "Name: label, dtype: int64\n"
     ]
    }
   ],
   "source": [
    "print(data[\"label\"])"
   ]
  },
  {
   "cell_type": "code",
   "execution_count": 10,
   "metadata": {},
   "outputs": [],
   "source": [
    "import numpy as np\n",
    "from sklearn.model_selection import train_test_split"
   ]
  },
  {
   "cell_type": "code",
   "execution_count": 11,
   "metadata": {},
   "outputs": [],
   "source": [
    "train, test = train_test_split(data, test_size=0.33, random_state=42)"
   ]
  },
  {
   "cell_type": "code",
   "execution_count": 12,
   "metadata": {},
   "outputs": [
    {
     "name": "stderr",
     "output_type": "stream",
     "text": [
      "/Library/Frameworks/Python.framework/Versions/3.7/lib/python3.7/site-packages/ipykernel_launcher.py:1: SettingWithCopyWarning: \n",
      "A value is trying to be set on a copy of a slice from a DataFrame.\n",
      "Try using .loc[row_indexer,col_indexer] = value instead\n",
      "\n",
      "See the caveats in the documentation: http://pandas.pydata.org/pandas-docs/stable/indexing.html#indexing-view-versus-copy\n",
      "  \"\"\"Entry point for launching an IPython kernel.\n"
     ]
    }
   ],
   "source": [
    "train[\"label\"] = pd.Categorical(train[\"label\"])"
   ]
  },
  {
   "cell_type": "code",
   "execution_count": 13,
   "metadata": {},
   "outputs": [
    {
     "data": {
      "text/html": [
       "<div>\n",
       "<style scoped>\n",
       "    .dataframe tbody tr th:only-of-type {\n",
       "        vertical-align: middle;\n",
       "    }\n",
       "\n",
       "    .dataframe tbody tr th {\n",
       "        vertical-align: top;\n",
       "    }\n",
       "\n",
       "    .dataframe thead th {\n",
       "        text-align: right;\n",
       "    }\n",
       "</style>\n",
       "<table border=\"1\" class=\"dataframe\">\n",
       "  <thead>\n",
       "    <tr style=\"text-align: right;\">\n",
       "      <th></th>\n",
       "      <th>sentence</th>\n",
       "    </tr>\n",
       "    <tr>\n",
       "      <th>label</th>\n",
       "      <th></th>\n",
       "    </tr>\n",
       "  </thead>\n",
       "  <tbody>\n",
       "    <tr>\n",
       "      <th>1</th>\n",
       "      <td>6</td>\n",
       "    </tr>\n",
       "    <tr>\n",
       "      <th>2</th>\n",
       "      <td>4</td>\n",
       "    </tr>\n",
       "    <tr>\n",
       "      <th>3</th>\n",
       "      <td>6</td>\n",
       "    </tr>\n",
       "  </tbody>\n",
       "</table>\n",
       "</div>"
      ],
      "text/plain": [
       "       sentence\n",
       "label          \n",
       "1             6\n",
       "2             4\n",
       "3             6"
      ]
     },
     "execution_count": 13,
     "metadata": {},
     "output_type": "execute_result"
    }
   ],
   "source": [
    "train.groupby(\"label\").count()"
   ]
  },
  {
   "cell_type": "code",
   "execution_count": 14,
   "metadata": {
    "scrolled": true
   },
   "outputs": [
    {
     "data": {
      "text/html": [
       "<div>\n",
       "<style scoped>\n",
       "    .dataframe tbody tr th:only-of-type {\n",
       "        vertical-align: middle;\n",
       "    }\n",
       "\n",
       "    .dataframe tbody tr th {\n",
       "        vertical-align: top;\n",
       "    }\n",
       "\n",
       "    .dataframe thead th {\n",
       "        text-align: right;\n",
       "    }\n",
       "</style>\n",
       "<table border=\"1\" class=\"dataframe\">\n",
       "  <thead>\n",
       "    <tr style=\"text-align: right;\">\n",
       "      <th></th>\n",
       "      <th>sentence</th>\n",
       "    </tr>\n",
       "    <tr>\n",
       "      <th>label</th>\n",
       "      <th></th>\n",
       "    </tr>\n",
       "  </thead>\n",
       "  <tbody>\n",
       "    <tr>\n",
       "      <th>1</th>\n",
       "      <td>2</td>\n",
       "    </tr>\n",
       "    <tr>\n",
       "      <th>2</th>\n",
       "      <td>4</td>\n",
       "    </tr>\n",
       "    <tr>\n",
       "      <th>3</th>\n",
       "      <td>2</td>\n",
       "    </tr>\n",
       "  </tbody>\n",
       "</table>\n",
       "</div>"
      ],
      "text/plain": [
       "       sentence\n",
       "label          \n",
       "1             2\n",
       "2             4\n",
       "3             2"
      ]
     },
     "execution_count": 14,
     "metadata": {},
     "output_type": "execute_result"
    }
   ],
   "source": [
    "test.groupby(\"label\").count()"
   ]
  },
  {
   "cell_type": "code",
   "execution_count": 15,
   "metadata": {},
   "outputs": [],
   "source": [
    "from konlpy.tag import Twitter\n",
    "from sklearn.feature_extraction.text import CountVectorizer"
   ]
  },
  {
   "cell_type": "code",
   "execution_count": 16,
   "metadata": {},
   "outputs": [],
   "source": [
    "def get_noun(text):\n",
    "    tokenizer = Twitter()\n",
    "    nouns = tokenizer.nouns(text)\n",
    "    return [n for n in nouns]"
   ]
  },
  {
   "cell_type": "code",
   "execution_count": 17,
   "metadata": {},
   "outputs": [],
   "source": [
    "cv = CountVectorizer(tokenizer=get_noun,stop_words=None, ngram_range=(1, 2))"
   ]
  },
  {
   "cell_type": "code",
   "execution_count": 18,
   "metadata": {},
   "outputs": [
    {
     "name": "stderr",
     "output_type": "stream",
     "text": [
      "/Library/Frameworks/Python.framework/Versions/3.7/lib/python3.7/site-packages/konlpy/tag/_okt.py:16: UserWarning: \"Twitter\" has changed to \"Okt\" since KoNLPy v0.4.5.\n",
      "  warn('\"Twitter\" has changed to \"Okt\" since KoNLPy v0.4.5.')\n"
     ]
    }
   ],
   "source": [
    "tdm = cv.fit_transform(train[\"sentence\"])"
   ]
  },
  {
   "cell_type": "code",
   "execution_count": 19,
   "metadata": {},
   "outputs": [
    {
     "name": "stderr",
     "output_type": "stream",
     "text": [
      "/Library/Frameworks/Python.framework/Versions/3.7/lib/python3.7/site-packages/sklearn/linear_model/stochastic_gradient.py:152: DeprecationWarning: n_iter parameter is deprecated in 0.19 and will be removed in 0.21. Use max_iter and tol instead.\n",
      "  DeprecationWarning)\n"
     ]
    }
   ],
   "source": [
    "from sklearn.feature_extraction.text import CountVectorizer\n",
    "from sklearn.feature_extraction.text import TfidfTransformer\n",
    "from sklearn.linear_model import SGDClassifier\n",
    "from sklearn.pipeline import Pipeline\n",
    "\n",
    "text_clf_svm = Pipeline([('vect', CountVectorizer(tokenizer=get_noun)),\n",
    "                         ('tfidf', TfidfTransformer()),\n",
    "                         ('clf-svm', SGDClassifier(loss='hinge', penalty='l2', alpha=1e-3, n_iter=5, random_state=42))])\n",
    "\n",
    "text_clf_svm = text_clf_svm.fit(train[\"sentence\"], train[\"label\"])\n"
   ]
  },
  {
   "cell_type": "code",
   "execution_count": 20,
   "metadata": {},
   "outputs": [
    {
     "name": "stdout",
     "output_type": "stream",
     "text": [
      "{'문재인': 129, '대통령': 76, '세대': 189, '이': 260, '해': 378, '것': 11, '해체': 380, '융합': 249, '창의': 312, '사고': 161, '차': 305, '산업혁명': 175, '시대': 206, '필요': 370, '인재': 269, '말': 112, '문재인 대통령': 130, '대통령 세대': 77, '세대 이': 190, '이 해': 261, '해 것': 379, '것 해체': 12, '해체 융합': 381, '융합 창의': 251, '창의 사고': 314, '사고 차': 162, '차 산업혁명': 307, '산업혁명 시대': 176, '시대 필요': 208, '필요 인재': 371, '인재 말': 270, '미세먼지': 137, '수': 198, '기술': 54, '도전': 85, '과학기술': 27, '구조': 39, '미세먼지 수': 138, '수 기술': 200, '기술 도전': 55, '도전 과학기술': 87, '과학기술 수': 28, '수 구조': 199, '라운드': 104, '진출': 302, '팀': 349, '비록': 157, '한국판': 376, '칼레': 336, '기적': 60, '사람': 163, '라운드 진출': 105, '진출 팀': 304, '팀 비록': 350, '비록 한국판': 158, '한국판 칼레': 377, '칼레 기적': 337, '기적 사람': 61, '사람 도전': 164, '도전 것': 86, '통해': 342, '고객': 17, '소통': 193, '전략': 275, '통해 고객': 343, '고객 소통': 18, '소통 전략': 196, '무역': 125, '협회': 389, '영진': 229, '경기도': 13, '시작': 213, '전국': 273, '출현': 332, '목소리': 121, '듣기': 96, '위': 236, '행보': 382, '무역 협회': 126, '협회 영진': 390, '영진 경기도': 230, '경기도 시작': 14, '시작 전국': 214, '전국 출현': 274, '출현 목소리': 333, '목소리 듣기': 122, '듣기 위': 97, '위 소통': 237, '소통 행보': 197, '의원': 253, '회관': 397, '회의실': 401, '절': 278, '주년': 288, '기념': 50, '대한민국': 80, '희망': 403, '프로젝트': 365, '한국인': 374, '시상': 209, '행사': 383, '나라': 66, '사랑': 165, '몸소': 123, '실천': 221, '나눔': 64, '정신': 282, '확산': 392, '의원 회관': 255, '회관 회의실': 398, '회의실 절': 402, '절 주년': 279, '주년 기념': 289, '기념 대한민국': 51, '대한민국 희망': 82, '희망 프로젝트': 404, '프로젝트 도전': 366, '도전 한국인': 91, '한국인 시상': 375, '시상 행사': 210, '행사 대한민국': 384, '대한민국 나라': 81, '나라 사랑': 67, '사랑 몸소': 166, '몸소 실천': 124, '실천 나눔': 222, '나눔 도전': 65, '도전 정신': 90, '정신 확산': 283, '지난': 294, '인도양': 265, '편': 353, '자부심': 271, '낚시': 70, '마리': 110, '굴욕': 44, '돈': 92, '스파이크': 204, '유독': 243, '성공': 185, '대한': 78, '의지': 257, '지난 인도양': 295, '인도양 편': 266, '편 자부심': 354, '자부심 낚시': 272, '낚시 도전': 71, '도전 마리': 89, '마리 굴욕': 111, '굴욕 돈': 45, '돈 스파이크': 93, '스파이크 유독': 205, '유독 성공': 244, '성공 대한': 186, '대한 의지': 79, '충남': 334, '창조경제': 322, '혁신': 386, '센터': 191, '도내': 83, '농수산': 72, '품': 357, '부가가치': 153, '창': 308, '위해': 240, '포장디자인': 355, '개선': 7, '유통': 245, '판로': 351, '개척': 9, '지원': 300, '사업인': 170, '산업': 172, '명품': 117, '프로그램': 361, '충남 창조경제': 335, '창조경제 혁신': 323, '혁신 센터': 387, '센터 도내': 192, '도내 농수산': 84, '농수산 품': 73, '품 부가가치': 358, '부가가치 창': 154, '창 위해': 309, '위해 포장디자인': 242, '포장디자인 개선': 356, '개선 유통': 8, '유통 판로': 246, '판로 개척': 352, '개척 지원': 10, '지원 사업인': 301, '사업인 차': 171, '차 산업': 306, '산업 명품': 173, '명품 프로그램': 118, '초등': 328, '체험': 326, '모': 119, '분석': 155, '창의력': 318, '바탕': 144, '초등 창의': 329, '창의 융합': 316, '융합 체험': 252, '체험 프로그램': 327, '프로그램 모': 363, '모 차': 120, '시대 분석': 207, '분석 창의력': 156, '창의력 바탕': 319, '프린팅': 367, '창업': 310, '육성': 247, '과정': 25, '교실': 33, '미래': 135, '등': 98, '계층': 15, '운동': 234, '탑': 340, '보존': 151, '위원회': 238, '주최': 292, '주관': 286, '이번': 262, '두현': 94, '군수': 42, '박용': 147, '삼': 179, '군': 40, '의회': 258, '의장': 256, '프린팅 기술': 368, '기술 창업': 57, '창업 육성': 311, '육성 과정': 248, '과정 프린팅': 26, '프린팅 창의': 369, '창의 교실': 313, '교실 차': 34, '산업 미래': 174, '미래 기술': 136, '기술 등': 56, '등 계층': 99, '계층 운동': 16, '운동 창의': 235, '창의 탑': 317, '탑 보존': 341, '보존 위원회': 152, '위원회 주최': 239, '주최 주관': 293, '주관 이번': 287, '이번 행사': 264, '행사 두현': 385, '두현 군수': 95, '군수 박용': 43, '박용 삼': 148, '삼 군': 180, '군 의회': 41, '의회 의장': 259, '한국': 372, '바로': 142, '기업가': 58, '시장': 215, '창조': 320, '수행': 201, '때문': 102, '한국 바로': 373, '바로 기업가': 143, '기업가 시장': 59, '시장 창조': 216, '창조 혁신': 321, '혁신 수행': 388, '수행 때문': 202, '때문 것': 103, '과거': 23, '전설': 276, '예능': 231, '근간': 48, '생각': 181, '무한도전': 127, '박': 145, '멤버': 115, '과거 전설': 24, '전설 예능': 277, '예능 프로그램': 232, '프로그램 근간': 362, '근간 생각': 49, '생각 무한도전': 182, '무한도전 박': 128, '박 멤버': 146, '멤버 수': 116, '간담': 2, '회': 395, '주민': 290, '강화': 4, '지역구': 298, '다른': 74, '간': 0, '역할': 223, '이번 간담': 263, '간담 회': 3, '회 통해': 396, '통해 주민': 344, '주민 소통': 291, '소통 강화': 194, '강화 지역구': 6, '지역구 다른': 299, '다른 의원': 75, '의원 간': 254, '간 소통': 1, '강화 역할': 5, '역할 것': 224, '나무': 68, '회사': 399, '서비스': 183, '관련': 29, '정보': 280, '제공': 284, '및': 139, '신뢰': 217, '기반': 52, '공식': 21, '커뮤니케이션': 338, '채널': 324, '오픈': 233, '나무 회사': 69, '회사 서비스': 400, '서비스 관련': 184, '관련 정보': 30, '정보 제공': 281, '제공 및': 285, '및 신뢰': 141, '신뢰 기반': 218, '기반 고객': 53, '소통 위해': 195, '위해 공식': 241, '공식 커뮤니케이션': 22, '커뮤니케이션 채널': 339, '채널 오픈': 325, '사례': 167, '시스템': 211, '활용': 393, '관찰': 31, '추천': 330, '방법': 149, '영재교육': 227, '성의': 187, '실제': 219, '산출': 177, '물': 131, '지도': 296, '영재': 225, '인성': 267, '리더십': 108, '교육': 35, '맞춤': 113, '교육과정': 37, '투입': 347, '사례 시스템': 168, '시스템 활용': 212, '활용 관찰': 394, '관찰 추천': 32, '추천 방법': 331, '방법 융합': 150, '융합 영재교육': 250, '영재교육 프로그램': 228, '프로그램 성의': 364, '성의 실제': 188, '실제 창의': 220, '창의 산출': 315, '산출 물': 178, '물 지도': 132, '지도 사례': 297, '사례 영재': 169, '영재 인성': 226, '인성 및': 268, '및 리더십': 140, '리더십 교육': 109, '교육 등': 36, '등 맞춤': 100, '맞춤 교육과정': 114, '교육과정 투입': 38, '투입 창의': 348, '미국': 133, '프로': 359, '골프': 19, '투어': 345, '빅': 159, '리그': 106, '그': 46, '꿈': 62, '순간': 203, '미국 프로': 134, '프로 골프': 360, '골프 협회': 20, '협회 투어': 391, '투어 도전': 346, '도전 등': 88, '등 빅': 101, '빅 리그': 160, '리그 진출': 107, '진출 그': 303, '그 꿈': 47, '꿈 순간': 63}\n"
     ]
    }
   ],
   "source": [
    "print(cv.vocabulary_)"
   ]
  },
  {
   "cell_type": "code",
   "execution_count": 21,
   "metadata": {},
   "outputs": [
    {
     "data": {
      "text/plain": [
       "0.75"
      ]
     },
     "execution_count": 21,
     "metadata": {},
     "output_type": "execute_result"
    }
   ],
   "source": [
    "predicted_svm = text_clf_svm.predict(test[\"sentence\"])\n",
    "np.mean(predicted_svm == test[\"label\"])"
   ]
  },
  {
   "cell_type": "code",
   "execution_count": 22,
   "metadata": {},
   "outputs": [
    {
     "name": "stdout",
     "output_type": "stream",
     "text": [
      "[[ 4.17925566 -3.70091679 -4.48716577]]\n"
     ]
    }
   ],
   "source": [
    "\n",
    "text_clf_svm.predict([\"도전\"]) # 결과 예측\n",
    "print (text_clf_svm.decision_function([\"도전\"])) # 예측 수치 값"
   ]
  },
  {
   "cell_type": "code",
   "execution_count": 23,
   "metadata": {},
   "outputs": [
    {
     "data": {
      "text/plain": [
       "array([2])"
      ]
     },
     "execution_count": 23,
     "metadata": {},
     "output_type": "execute_result"
    }
   ],
   "source": [
    " text_clf_svm.predict([\"의사 소통\"])"
   ]
  },
  {
   "cell_type": "code",
   "execution_count": 24,
   "metadata": {},
   "outputs": [
    {
     "data": {
      "text/plain": [
       "array([3])"
      ]
     },
     "execution_count": 24,
     "metadata": {},
     "output_type": "execute_result"
    }
   ],
   "source": [
    " text_clf_svm.predict([\"산업혁명\"])"
   ]
  },
  {
   "cell_type": "code",
   "execution_count": null,
   "metadata": {},
   "outputs": [],
   "source": []
  },
  {
   "cell_type": "code",
   "execution_count": null,
   "metadata": {},
   "outputs": [],
   "source": []
  }
 ],
 "metadata": {
  "kernelspec": {
   "display_name": "Python 3",
   "language": "python",
   "name": "python3"
  },
  "language_info": {
   "codemirror_mode": {
    "name": "ipython",
    "version": 3
   },
   "file_extension": ".py",
   "mimetype": "text/x-python",
   "name": "python",
   "nbconvert_exporter": "python",
   "pygments_lexer": "ipython3",
   "version": "3.7.2"
  }
 },
 "nbformat": 4,
 "nbformat_minor": 2
}
