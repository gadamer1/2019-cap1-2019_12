{
 "cells": [
  {
   "cell_type": "code",
   "execution_count": 117,
   "metadata": {},
   "outputs": [
    {
     "data": {
      "text/html": [
       "<div>\n",
       "<style scoped>\n",
       "    .dataframe tbody tr th:only-of-type {\n",
       "        vertical-align: middle;\n",
       "    }\n",
       "\n",
       "    .dataframe tbody tr th {\n",
       "        vertical-align: top;\n",
       "    }\n",
       "\n",
       "    .dataframe thead th {\n",
       "        text-align: right;\n",
       "    }\n",
       "</style>\n",
       "<table border=\"1\" class=\"dataframe\">\n",
       "  <thead>\n",
       "    <tr style=\"text-align: right;\">\n",
       "      <th></th>\n",
       "      <th>label</th>\n",
       "      <th>sentence</th>\n",
       "    </tr>\n",
       "  </thead>\n",
       "  <tbody>\n",
       "    <tr>\n",
       "      <th>0</th>\n",
       "      <td>1</td>\n",
       "      <td>류형근 기자 = 대동문화재단은 18기 빛고을문화대학 수강생을 다음달 4일까지 선착순...</td>\n",
       "    </tr>\n",
       "    <tr>\n",
       "      <th>1</th>\n",
       "      <td>1</td>\n",
       "      <td>경남 김해의 역사문화자원을 소재로 한 창작프로젝트가 김해 봉하마을에서 진행된다</td>\n",
       "    </tr>\n",
       "    <tr>\n",
       "      <th>2</th>\n",
       "      <td>1</td>\n",
       "      <td>김해문화재단 문화예술본부는 김해 봉하마을을 중심으로 문화거점을 조성하고 김해의</td>\n",
       "    </tr>\n",
       "    <tr>\n",
       "      <th>3</th>\n",
       "      <td>1</td>\n",
       "      <td>경남 함양군의 남계서원이 유네스코 세계문화유산 등재 최종 발표를 앞두고 그 결과에 ...</td>\n",
       "    </tr>\n",
       "    <tr>\n",
       "      <th>4</th>\n",
       "      <td>1</td>\n",
       "      <td>빌바오는 제조업 도시에서 문화관광 도시로 변신해 재생에 성공한 모범 사례로 꼽힌다</td>\n",
       "    </tr>\n",
       "  </tbody>\n",
       "</table>\n",
       "</div>"
      ],
      "text/plain": [
       "   label                                           sentence\n",
       "0      1  류형근 기자 = 대동문화재단은 18기 빛고을문화대학 수강생을 다음달 4일까지 선착순...\n",
       "1      1        경남 김해의 역사문화자원을 소재로 한 창작프로젝트가 김해 봉하마을에서 진행된다\n",
       "2      1        김해문화재단 문화예술본부는 김해 봉하마을을 중심으로 문화거점을 조성하고 김해의\n",
       "3      1  경남 함양군의 남계서원이 유네스코 세계문화유산 등재 최종 발표를 앞두고 그 결과에 ...\n",
       "4      1      빌바오는 제조업 도시에서 문화관광 도시로 변신해 재생에 성공한 모범 사례로 꼽힌다"
      ]
     },
     "execution_count": 117,
     "metadata": {},
     "output_type": "execute_result"
    }
   ],
   "source": [
    "import os\n",
    "import pandas as pd\n",
    "\n",
    "ability_1 = pd.read_csv(\"data_in/global.csv\", encoding=\"utf-8\")\n",
    "ability_2 = pd.read_csv(\"data_in/active.csv\", encoding=\"utf-8\")\n",
    "ability_3 = pd.read_csv(\"data_in/challenge.csv\", encoding=\"utf-8\")\n",
    "ability_4 = pd.read_csv(\"data_in/sincerity.csv\", encoding=\"utf-8\")\n",
    "ability_5 = pd.read_csv(\"data_in/communication.csv\", encoding=\"utf-8\")\n",
    "ability_6 = pd.read_csv(\"data_in/patience.csv\", encoding=\"utf-8\")\n",
    "ability_7 = pd.read_csv(\"data_in/honest.csv\", encoding=\"utf-8\")\n",
    "ability_8 = pd.read_csv(\"data_in/owner_spirit.csv\", encoding=\"utf-8\")\n",
    "ability_9 = pd.read_csv(\"data_in/creativity.csv\", encoding=\"utf-8\")\n",
    "ability_10 = pd.read_csv(\"data_in/teamwork.csv\", encoding=\"utf-8\")\n",
    "\n",
    "ability_1.head()"
   ]
  },
  {
   "cell_type": "code",
   "execution_count": 118,
   "metadata": {},
   "outputs": [
    {
     "data": {
      "text/html": [
       "<div>\n",
       "<style scoped>\n",
       "    .dataframe tbody tr th:only-of-type {\n",
       "        vertical-align: middle;\n",
       "    }\n",
       "\n",
       "    .dataframe tbody tr th {\n",
       "        vertical-align: top;\n",
       "    }\n",
       "\n",
       "    .dataframe thead th {\n",
       "        text-align: right;\n",
       "    }\n",
       "</style>\n",
       "<table border=\"1\" class=\"dataframe\">\n",
       "  <thead>\n",
       "    <tr style=\"text-align: right;\">\n",
       "      <th></th>\n",
       "      <th>label</th>\n",
       "      <th>sentence</th>\n",
       "    </tr>\n",
       "  </thead>\n",
       "  <tbody>\n",
       "    <tr>\n",
       "      <th>0</th>\n",
       "      <td>2</td>\n",
       "      <td>직면한 문제들을 해결하고 세계 수준의 지속가능한 경쟁력을 확보하기 위해 보다 능동적...</td>\n",
       "    </tr>\n",
       "    <tr>\n",
       "      <th>1</th>\n",
       "      <td>2</td>\n",
       "      <td>생활 향상에 기여하는 전문 기계기술자를 양성하고 급변하는 첨단 기술 세계에 대한 능...</td>\n",
       "    </tr>\n",
       "    <tr>\n",
       "      <th>2</th>\n",
       "      <td>2</td>\n",
       "      <td>저자는 전통을 중시하지만 환경 변화에 능동적으로 대처하는 일본의 중소기업을 '내적...</td>\n",
       "    </tr>\n",
       "    <tr>\n",
       "      <th>3</th>\n",
       "      <td>2</td>\n",
       "      <td>박 군단장은 취임사에서 “다양한 시대변화에 능동적으로 대처해 국민에게 신뢰를 받을 ...</td>\n",
       "    </tr>\n",
       "    <tr>\n",
       "      <th>4</th>\n",
       "      <td>2</td>\n",
       "      <td>문 대통령은 신한반도 체제를 '수동적인 냉전질서의 능동적인 평화질서로의 전환'이라...</td>\n",
       "    </tr>\n",
       "  </tbody>\n",
       "</table>\n",
       "</div>"
      ],
      "text/plain": [
       "   label                                           sentence\n",
       "0      2  직면한 문제들을 해결하고 세계 수준의 지속가능한 경쟁력을 확보하기 위해 보다 능동적...\n",
       "1      2  생활 향상에 기여하는 전문 기계기술자를 양성하고 급변하는 첨단 기술 세계에 대한 능...\n",
       "2      2   저자는 전통을 중시하지만 환경 변화에 능동적으로 대처하는 일본의 중소기업을 '내적...\n",
       "3      2  박 군단장은 취임사에서 “다양한 시대변화에 능동적으로 대처해 국민에게 신뢰를 받을 ...\n",
       "4      2   문 대통령은 신한반도 체제를 '수동적인 냉전질서의 능동적인 평화질서로의 전환'이라..."
      ]
     },
     "execution_count": 118,
     "metadata": {},
     "output_type": "execute_result"
    }
   ],
   "source": [
    "ability_2.head()"
   ]
  },
  {
   "cell_type": "code",
   "execution_count": 119,
   "metadata": {},
   "outputs": [
    {
     "data": {
      "text/html": [
       "<div>\n",
       "<style scoped>\n",
       "    .dataframe tbody tr th:only-of-type {\n",
       "        vertical-align: middle;\n",
       "    }\n",
       "\n",
       "    .dataframe tbody tr th {\n",
       "        vertical-align: top;\n",
       "    }\n",
       "\n",
       "    .dataframe thead th {\n",
       "        text-align: right;\n",
       "    }\n",
       "</style>\n",
       "<table border=\"1\" class=\"dataframe\">\n",
       "  <thead>\n",
       "    <tr style=\"text-align: right;\">\n",
       "      <th></th>\n",
       "      <th>label</th>\n",
       "      <th>sentence</th>\n",
       "    </tr>\n",
       "  </thead>\n",
       "  <tbody>\n",
       "    <tr>\n",
       "      <th>0</th>\n",
       "      <td>3</td>\n",
       "      <td>외부기술 도입과 도전적 프로젝트 추진을 위한 산업기술 R&amp;D 규정 개정 산업통상자원...</td>\n",
       "    </tr>\n",
       "    <tr>\n",
       "      <th>1</th>\n",
       "      <td>3</td>\n",
       "      <td>패널토의에서는 정부의 도전적 R&amp;D 수행 당위성, 연구 성과 제고를 위한 부처 간...</td>\n",
       "    </tr>\n",
       "    <tr>\n",
       "      <th>2</th>\n",
       "      <td>3</td>\n",
       "      <td>따지 못한 것은 아쉽지만, H조 팀들이 모두 비슷한 전력의 팀들이기 때문에 이번에 ...</td>\n",
       "    </tr>\n",
       "    <tr>\n",
       "      <th>3</th>\n",
       "      <td>3</td>\n",
       "      <td>외부기술 도입을 적극 추진하고, 이를 통해 도전적 프로젝트를 현실화 하겠다는 방침이다</td>\n",
       "    </tr>\n",
       "    <tr>\n",
       "      <th>4</th>\n",
       "      <td>3</td>\n",
       "      <td>하지만 밝고 도전적인 모습 이면에, 남모를 비밀과 외로움이 있었다</td>\n",
       "    </tr>\n",
       "  </tbody>\n",
       "</table>\n",
       "</div>"
      ],
      "text/plain": [
       "   label                                           sentence\n",
       "0      3  외부기술 도입과 도전적 프로젝트 추진을 위한 산업기술 R&D 규정 개정 산업통상자원...\n",
       "1      3   패널토의에서는 정부의 도전적 R&D 수행 당위성, 연구 성과 제고를 위한 부처 간...\n",
       "2      3  따지 못한 것은 아쉽지만, H조 팀들이 모두 비슷한 전력의 팀들이기 때문에 이번에 ...\n",
       "3      3    외부기술 도입을 적극 추진하고, 이를 통해 도전적 프로젝트를 현실화 하겠다는 방침이다\n",
       "4      3               하지만 밝고 도전적인 모습 이면에, 남모를 비밀과 외로움이 있었다"
      ]
     },
     "execution_count": 119,
     "metadata": {},
     "output_type": "execute_result"
    }
   ],
   "source": [
    "ability_3.head()"
   ]
  },
  {
   "cell_type": "code",
   "execution_count": 120,
   "metadata": {},
   "outputs": [
    {
     "data": {
      "text/html": [
       "<div>\n",
       "<style scoped>\n",
       "    .dataframe tbody tr th:only-of-type {\n",
       "        vertical-align: middle;\n",
       "    }\n",
       "\n",
       "    .dataframe tbody tr th {\n",
       "        vertical-align: top;\n",
       "    }\n",
       "\n",
       "    .dataframe thead th {\n",
       "        text-align: right;\n",
       "    }\n",
       "</style>\n",
       "<table border=\"1\" class=\"dataframe\">\n",
       "  <thead>\n",
       "    <tr style=\"text-align: right;\">\n",
       "      <th></th>\n",
       "      <th>sentence</th>\n",
       "      <th>label</th>\n",
       "    </tr>\n",
       "  </thead>\n",
       "  <tbody>\n",
       "    <tr>\n",
       "      <th>0</th>\n",
       "      <td>류형근 기자 = 대동문화재단은 18기 빛고을문화대학 수강생을 다음달 4일까지 선착순...</td>\n",
       "      <td>1</td>\n",
       "    </tr>\n",
       "    <tr>\n",
       "      <th>1</th>\n",
       "      <td>경남 김해의 역사문화자원을 소재로 한 창작프로젝트가 김해 봉하마을에서 진행된다</td>\n",
       "      <td>1</td>\n",
       "    </tr>\n",
       "    <tr>\n",
       "      <th>2</th>\n",
       "      <td>김해문화재단 문화예술본부는 김해 봉하마을을 중심으로 문화거점을 조성하고 김해의</td>\n",
       "      <td>1</td>\n",
       "    </tr>\n",
       "    <tr>\n",
       "      <th>3</th>\n",
       "      <td>경남 함양군의 남계서원이 유네스코 세계문화유산 등재 최종 발표를 앞두고 그 결과에 ...</td>\n",
       "      <td>1</td>\n",
       "    </tr>\n",
       "    <tr>\n",
       "      <th>4</th>\n",
       "      <td>빌바오는 제조업 도시에서 문화관광 도시로 변신해 재생에 성공한 모범 사례로 꼽힌다</td>\n",
       "      <td>1</td>\n",
       "    </tr>\n",
       "  </tbody>\n",
       "</table>\n",
       "</div>"
      ],
      "text/plain": [
       "                                            sentence  label\n",
       "0  류형근 기자 = 대동문화재단은 18기 빛고을문화대학 수강생을 다음달 4일까지 선착순...      1\n",
       "1        경남 김해의 역사문화자원을 소재로 한 창작프로젝트가 김해 봉하마을에서 진행된다      1\n",
       "2        김해문화재단 문화예술본부는 김해 봉하마을을 중심으로 문화거점을 조성하고 김해의      1\n",
       "3  경남 함양군의 남계서원이 유네스코 세계문화유산 등재 최종 발표를 앞두고 그 결과에 ...      1\n",
       "4      빌바오는 제조업 도시에서 문화관광 도시로 변신해 재생에 성공한 모범 사례로 꼽힌다      1"
      ]
     },
     "execution_count": 120,
     "metadata": {},
     "output_type": "execute_result"
    }
   ],
   "source": [
    "a1 = pd.DataFrame(ability_1[\"sentence\"])\n",
    "a1[\"label\"] = 1\n",
    "a1.head()"
   ]
  },
  {
   "cell_type": "code",
   "execution_count": 121,
   "metadata": {},
   "outputs": [
    {
     "data": {
      "text/html": [
       "<div>\n",
       "<style scoped>\n",
       "    .dataframe tbody tr th:only-of-type {\n",
       "        vertical-align: middle;\n",
       "    }\n",
       "\n",
       "    .dataframe tbody tr th {\n",
       "        vertical-align: top;\n",
       "    }\n",
       "\n",
       "    .dataframe thead th {\n",
       "        text-align: right;\n",
       "    }\n",
       "</style>\n",
       "<table border=\"1\" class=\"dataframe\">\n",
       "  <thead>\n",
       "    <tr style=\"text-align: right;\">\n",
       "      <th></th>\n",
       "      <th>sentence</th>\n",
       "      <th>label</th>\n",
       "    </tr>\n",
       "  </thead>\n",
       "  <tbody>\n",
       "    <tr>\n",
       "      <th>0</th>\n",
       "      <td>직면한 문제들을 해결하고 세계 수준의 지속가능한 경쟁력을 확보하기 위해 보다 능동적...</td>\n",
       "      <td>2</td>\n",
       "    </tr>\n",
       "    <tr>\n",
       "      <th>1</th>\n",
       "      <td>생활 향상에 기여하는 전문 기계기술자를 양성하고 급변하는 첨단 기술 세계에 대한 능...</td>\n",
       "      <td>2</td>\n",
       "    </tr>\n",
       "    <tr>\n",
       "      <th>2</th>\n",
       "      <td>저자는 전통을 중시하지만 환경 변화에 능동적으로 대처하는 일본의 중소기업을 '내적...</td>\n",
       "      <td>2</td>\n",
       "    </tr>\n",
       "    <tr>\n",
       "      <th>3</th>\n",
       "      <td>박 군단장은 취임사에서 “다양한 시대변화에 능동적으로 대처해 국민에게 신뢰를 받을 ...</td>\n",
       "      <td>2</td>\n",
       "    </tr>\n",
       "    <tr>\n",
       "      <th>4</th>\n",
       "      <td>문 대통령은 신한반도 체제를 '수동적인 냉전질서의 능동적인 평화질서로의 전환'이라...</td>\n",
       "      <td>2</td>\n",
       "    </tr>\n",
       "  </tbody>\n",
       "</table>\n",
       "</div>"
      ],
      "text/plain": [
       "                                            sentence  label\n",
       "0  직면한 문제들을 해결하고 세계 수준의 지속가능한 경쟁력을 확보하기 위해 보다 능동적...      2\n",
       "1  생활 향상에 기여하는 전문 기계기술자를 양성하고 급변하는 첨단 기술 세계에 대한 능...      2\n",
       "2   저자는 전통을 중시하지만 환경 변화에 능동적으로 대처하는 일본의 중소기업을 '내적...      2\n",
       "3  박 군단장은 취임사에서 “다양한 시대변화에 능동적으로 대처해 국민에게 신뢰를 받을 ...      2\n",
       "4   문 대통령은 신한반도 체제를 '수동적인 냉전질서의 능동적인 평화질서로의 전환'이라...      2"
      ]
     },
     "execution_count": 121,
     "metadata": {},
     "output_type": "execute_result"
    }
   ],
   "source": [
    "a2 = pd.DataFrame(ability_2[\"sentence\"])\n",
    "a2[\"label\"] = 2\n",
    "a2.head()"
   ]
  },
  {
   "cell_type": "code",
   "execution_count": 122,
   "metadata": {},
   "outputs": [
    {
     "data": {
      "text/html": [
       "<div>\n",
       "<style scoped>\n",
       "    .dataframe tbody tr th:only-of-type {\n",
       "        vertical-align: middle;\n",
       "    }\n",
       "\n",
       "    .dataframe tbody tr th {\n",
       "        vertical-align: top;\n",
       "    }\n",
       "\n",
       "    .dataframe thead th {\n",
       "        text-align: right;\n",
       "    }\n",
       "</style>\n",
       "<table border=\"1\" class=\"dataframe\">\n",
       "  <thead>\n",
       "    <tr style=\"text-align: right;\">\n",
       "      <th></th>\n",
       "      <th>sentence</th>\n",
       "      <th>label</th>\n",
       "    </tr>\n",
       "  </thead>\n",
       "  <tbody>\n",
       "    <tr>\n",
       "      <th>0</th>\n",
       "      <td>외부기술 도입과 도전적 프로젝트 추진을 위한 산업기술 R&amp;D 규정 개정 산업통상자원...</td>\n",
       "      <td>3</td>\n",
       "    </tr>\n",
       "    <tr>\n",
       "      <th>1</th>\n",
       "      <td>패널토의에서는 정부의 도전적 R&amp;D 수행 당위성, 연구 성과 제고를 위한 부처 간...</td>\n",
       "      <td>3</td>\n",
       "    </tr>\n",
       "    <tr>\n",
       "      <th>2</th>\n",
       "      <td>따지 못한 것은 아쉽지만, H조 팀들이 모두 비슷한 전력의 팀들이기 때문에 이번에 ...</td>\n",
       "      <td>3</td>\n",
       "    </tr>\n",
       "    <tr>\n",
       "      <th>3</th>\n",
       "      <td>외부기술 도입을 적극 추진하고, 이를 통해 도전적 프로젝트를 현실화 하겠다는 방침이다</td>\n",
       "      <td>3</td>\n",
       "    </tr>\n",
       "    <tr>\n",
       "      <th>4</th>\n",
       "      <td>하지만 밝고 도전적인 모습 이면에, 남모를 비밀과 외로움이 있었다</td>\n",
       "      <td>3</td>\n",
       "    </tr>\n",
       "  </tbody>\n",
       "</table>\n",
       "</div>"
      ],
      "text/plain": [
       "                                            sentence  label\n",
       "0  외부기술 도입과 도전적 프로젝트 추진을 위한 산업기술 R&D 규정 개정 산업통상자원...      3\n",
       "1   패널토의에서는 정부의 도전적 R&D 수행 당위성, 연구 성과 제고를 위한 부처 간...      3\n",
       "2  따지 못한 것은 아쉽지만, H조 팀들이 모두 비슷한 전력의 팀들이기 때문에 이번에 ...      3\n",
       "3    외부기술 도입을 적극 추진하고, 이를 통해 도전적 프로젝트를 현실화 하겠다는 방침이다      3\n",
       "4               하지만 밝고 도전적인 모습 이면에, 남모를 비밀과 외로움이 있었다      3"
      ]
     },
     "execution_count": 122,
     "metadata": {},
     "output_type": "execute_result"
    }
   ],
   "source": [
    "a3 = pd.DataFrame(ability_3[\"sentence\"])\n",
    "a3[\"label\"] = 3\n",
    "a3.head()"
   ]
  },
  {
   "cell_type": "code",
   "execution_count": 123,
   "metadata": {},
   "outputs": [
    {
     "data": {
      "text/html": [
       "<div>\n",
       "<style scoped>\n",
       "    .dataframe tbody tr th:only-of-type {\n",
       "        vertical-align: middle;\n",
       "    }\n",
       "\n",
       "    .dataframe tbody tr th {\n",
       "        vertical-align: top;\n",
       "    }\n",
       "\n",
       "    .dataframe thead th {\n",
       "        text-align: right;\n",
       "    }\n",
       "</style>\n",
       "<table border=\"1\" class=\"dataframe\">\n",
       "  <thead>\n",
       "    <tr style=\"text-align: right;\">\n",
       "      <th></th>\n",
       "      <th>sentence</th>\n",
       "      <th>label</th>\n",
       "    </tr>\n",
       "  </thead>\n",
       "  <tbody>\n",
       "    <tr>\n",
       "      <th>0</th>\n",
       "      <td>최정욱 인천국세청장이 5월 종합소득세 확정신고 관련 세무조사나 사후 성실여부 신고확...</td>\n",
       "      <td>4</td>\n",
       "    </tr>\n",
       "    <tr>\n",
       "      <th>1</th>\n",
       "      <td>흔히 ‘악은 성실하다’고 말하지만 이들의 악역이야말로 성실하게까지 느껴진다</td>\n",
       "      <td>4</td>\n",
       "    </tr>\n",
       "    <tr>\n",
       "      <th>2</th>\n",
       "      <td>김학의, 5년 6개월 만에 검찰 출석 김학의 “성실하게 조사받겠다” [2019</td>\n",
       "      <td>4</td>\n",
       "    </tr>\n",
       "    <tr>\n",
       "      <th>3</th>\n",
       "      <td>이날 고영호 동작세무서장은 간담회에 앞서 \"국민의 납세의무 이행을 성실하게 지원해 ...</td>\n",
       "      <td>4</td>\n",
       "    </tr>\n",
       "    <tr>\n",
       "      <th>4</th>\n",
       "      <td>신경은 앵커&gt; 고민정 청와대 신임 대변인은, 국민의 목소리를 경청하고 성실하게 답변...</td>\n",
       "      <td>4</td>\n",
       "    </tr>\n",
       "  </tbody>\n",
       "</table>\n",
       "</div>"
      ],
      "text/plain": [
       "                                            sentence  label\n",
       "0  최정욱 인천국세청장이 5월 종합소득세 확정신고 관련 세무조사나 사후 성실여부 신고확...      4\n",
       "1          흔히 ‘악은 성실하다’고 말하지만 이들의 악역이야말로 성실하게까지 느껴진다      4\n",
       "2        김학의, 5년 6개월 만에 검찰 출석 김학의 “성실하게 조사받겠다” [2019      4\n",
       "3  이날 고영호 동작세무서장은 간담회에 앞서 \"국민의 납세의무 이행을 성실하게 지원해 ...      4\n",
       "4  신경은 앵커> 고민정 청와대 신임 대변인은, 국민의 목소리를 경청하고 성실하게 답변...      4"
      ]
     },
     "execution_count": 123,
     "metadata": {},
     "output_type": "execute_result"
    }
   ],
   "source": [
    "a4 = pd.DataFrame(ability_4[\"sentence\"])\n",
    "a4[\"label\"] = 4\n",
    "a4.head()"
   ]
  },
  {
   "cell_type": "code",
   "execution_count": 124,
   "metadata": {},
   "outputs": [
    {
     "data": {
      "text/html": [
       "<div>\n",
       "<style scoped>\n",
       "    .dataframe tbody tr th:only-of-type {\n",
       "        vertical-align: middle;\n",
       "    }\n",
       "\n",
       "    .dataframe tbody tr th {\n",
       "        vertical-align: top;\n",
       "    }\n",
       "\n",
       "    .dataframe thead th {\n",
       "        text-align: right;\n",
       "    }\n",
       "</style>\n",
       "<table border=\"1\" class=\"dataframe\">\n",
       "  <thead>\n",
       "    <tr style=\"text-align: right;\">\n",
       "      <th></th>\n",
       "      <th>sentence</th>\n",
       "      <th>label</th>\n",
       "    </tr>\n",
       "  </thead>\n",
       "  <tbody>\n",
       "    <tr>\n",
       "      <th>0</th>\n",
       "      <td>것 대통령의 인식에서 위기의식을 찾을 수 없는 게 진짜 위기 난국 헤쳐나간 지도자의...</td>\n",
       "      <td>5</td>\n",
       "    </tr>\n",
       "    <tr>\n",
       "      <th>1</th>\n",
       "      <td>소통간담회에 참석후 기념촬영을 가진 김병수 울릉군수와 조합원들 ⓒ울릉군청 김병수 ...</td>\n",
       "      <td>5</td>\n",
       "    </tr>\n",
       "    <tr>\n",
       "      <th>2</th>\n",
       "      <td>1) 문요한 기자 = 13일 오후 전북 전주시 전북도청에서 열린 전라북도 정책소통 ...</td>\n",
       "      <td>5</td>\n",
       "    </tr>\n",
       "    <tr>\n",
       "      <th>3</th>\n",
       "      <td>말이 잘 통한다는 의미는 결국 소통에 대한 개념이다</td>\n",
       "      <td>5</td>\n",
       "    </tr>\n",
       "    <tr>\n",
       "      <th>4</th>\n",
       "      <td>서로간의 소통이 안 된 일방적 강요와 행동은 갈등의 시작이 되며, 건축이 삶과</td>\n",
       "      <td>5</td>\n",
       "    </tr>\n",
       "  </tbody>\n",
       "</table>\n",
       "</div>"
      ],
      "text/plain": [
       "                                            sentence  label\n",
       "0  것 대통령의 인식에서 위기의식을 찾을 수 없는 게 진짜 위기 난국 헤쳐나간 지도자의...      5\n",
       "1   소통간담회에 참석후 기념촬영을 가진 김병수 울릉군수와 조합원들 ⓒ울릉군청 김병수 ...      5\n",
       "2  1) 문요한 기자 = 13일 오후 전북 전주시 전북도청에서 열린 전라북도 정책소통 ...      5\n",
       "3                       말이 잘 통한다는 의미는 결국 소통에 대한 개념이다      5\n",
       "4        서로간의 소통이 안 된 일방적 강요와 행동은 갈등의 시작이 되며, 건축이 삶과      5"
      ]
     },
     "execution_count": 124,
     "metadata": {},
     "output_type": "execute_result"
    }
   ],
   "source": [
    "a5 = pd.DataFrame(ability_5[\"sentence\"])\n",
    "a5[\"label\"] = 5\n",
    "a5.head()"
   ]
  },
  {
   "cell_type": "code",
   "execution_count": 125,
   "metadata": {},
   "outputs": [
    {
     "data": {
      "text/html": [
       "<div>\n",
       "<style scoped>\n",
       "    .dataframe tbody tr th:only-of-type {\n",
       "        vertical-align: middle;\n",
       "    }\n",
       "\n",
       "    .dataframe tbody tr th {\n",
       "        vertical-align: top;\n",
       "    }\n",
       "\n",
       "    .dataframe thead th {\n",
       "        text-align: right;\n",
       "    }\n",
       "</style>\n",
       "<table border=\"1\" class=\"dataframe\">\n",
       "  <thead>\n",
       "    <tr style=\"text-align: right;\">\n",
       "      <th></th>\n",
       "      <th>sentence</th>\n",
       "      <th>label</th>\n",
       "    </tr>\n",
       "  </thead>\n",
       "  <tbody>\n",
       "    <tr>\n",
       "      <th>0</th>\n",
       "      <td>허들 감독은 인내심을 발휘하고 있다</td>\n",
       "      <td>6</td>\n",
       "    </tr>\n",
       "    <tr>\n",
       "      <th>1</th>\n",
       "      <td>마이크 폼페이오 미국 국무장관은 교착 상태에 빠진 북한과의 비핵화 협상에 대해 인내...</td>\n",
       "      <td>6</td>\n",
       "    </tr>\n",
       "    <tr>\n",
       "      <th>2</th>\n",
       "      <td>우리는 그에게 단순해지는 것을 주문하고 있고 인내심을 보여주려고 한다”면서 “나는...</td>\n",
       "      <td>6</td>\n",
       "    </tr>\n",
       "    <tr>\n",
       "      <th>3</th>\n",
       "      <td>구단의 인내심이 바닥을 보여도 놀랄 일은 아니라는 분석도 나온다</td>\n",
       "      <td>6</td>\n",
       "    </tr>\n",
       "    <tr>\n",
       "      <th>4</th>\n",
       "      <td>따라서 미국과 달리 한국 증시를 바라볼 때는 인내심이 요구된다</td>\n",
       "      <td>6</td>\n",
       "    </tr>\n",
       "  </tbody>\n",
       "</table>\n",
       "</div>"
      ],
      "text/plain": [
       "                                            sentence  label\n",
       "0                                허들 감독은 인내심을 발휘하고 있다      6\n",
       "1  마이크 폼페이오 미국 국무장관은 교착 상태에 빠진 북한과의 비핵화 협상에 대해 인내...      6\n",
       "2   우리는 그에게 단순해지는 것을 주문하고 있고 인내심을 보여주려고 한다”면서 “나는...      6\n",
       "3                구단의 인내심이 바닥을 보여도 놀랄 일은 아니라는 분석도 나온다      6\n",
       "4                 따라서 미국과 달리 한국 증시를 바라볼 때는 인내심이 요구된다      6"
      ]
     },
     "execution_count": 125,
     "metadata": {},
     "output_type": "execute_result"
    }
   ],
   "source": [
    "a6 = pd.DataFrame(ability_6[\"sentence\"])\n",
    "a6[\"label\"] = 6\n",
    "a6.head()"
   ]
  },
  {
   "cell_type": "code",
   "execution_count": 126,
   "metadata": {},
   "outputs": [
    {
     "data": {
      "text/html": [
       "<div>\n",
       "<style scoped>\n",
       "    .dataframe tbody tr th:only-of-type {\n",
       "        vertical-align: middle;\n",
       "    }\n",
       "\n",
       "    .dataframe tbody tr th {\n",
       "        vertical-align: top;\n",
       "    }\n",
       "\n",
       "    .dataframe thead th {\n",
       "        text-align: right;\n",
       "    }\n",
       "</style>\n",
       "<table border=\"1\" class=\"dataframe\">\n",
       "  <thead>\n",
       "    <tr style=\"text-align: right;\">\n",
       "      <th></th>\n",
       "      <th>sentence</th>\n",
       "      <th>label</th>\n",
       "    </tr>\n",
       "  </thead>\n",
       "  <tbody>\n",
       "    <tr>\n",
       "      <th>0</th>\n",
       "      <td>배우 나문희가 영화 '정직한 후보' 출연을 확정했다</td>\n",
       "      <td>7</td>\n",
       "    </tr>\n",
       "    <tr>\n",
       "      <th>1</th>\n",
       "      <td>나문희, 차기작은 정직한 후보</td>\n",
       "      <td>7</td>\n",
       "    </tr>\n",
       "    <tr>\n",
       "      <th>2</th>\n",
       "      <td>박사로 구성된 정직한보청기 네트워크는현재 대구이강우보청기, 경북벨톤보청기포항지사, ...</td>\n",
       "      <td>7</td>\n",
       "    </tr>\n",
       "    <tr>\n",
       "      <th>3</th>\n",
       "      <td>박사로 구성된 정직한보청기 네트워크는 현재 경남 거제 포낙보청기, 진주 독일지멘스시...</td>\n",
       "      <td>7</td>\n",
       "    </tr>\n",
       "    <tr>\n",
       "      <th>4</th>\n",
       "      <td>정직한 셀카에도 또렷한 이목구비가 눈길을 끈다</td>\n",
       "      <td>7</td>\n",
       "    </tr>\n",
       "  </tbody>\n",
       "</table>\n",
       "</div>"
      ],
      "text/plain": [
       "                                            sentence  label\n",
       "0                       배우 나문희가 영화 '정직한 후보' 출연을 확정했다      7\n",
       "1                                   나문희, 차기작은 정직한 후보      7\n",
       "2  박사로 구성된 정직한보청기 네트워크는현재 대구이강우보청기, 경북벨톤보청기포항지사, ...      7\n",
       "3  박사로 구성된 정직한보청기 네트워크는 현재 경남 거제 포낙보청기, 진주 독일지멘스시...      7\n",
       "4                          정직한 셀카에도 또렷한 이목구비가 눈길을 끈다      7"
      ]
     },
     "execution_count": 126,
     "metadata": {},
     "output_type": "execute_result"
    }
   ],
   "source": [
    "a7 = pd.DataFrame(ability_7[\"sentence\"])\n",
    "a7[\"label\"] = 7\n",
    "a7.head()"
   ]
  },
  {
   "cell_type": "code",
   "execution_count": 127,
   "metadata": {},
   "outputs": [
    {
     "data": {
      "text/html": [
       "<div>\n",
       "<style scoped>\n",
       "    .dataframe tbody tr th:only-of-type {\n",
       "        vertical-align: middle;\n",
       "    }\n",
       "\n",
       "    .dataframe tbody tr th {\n",
       "        vertical-align: top;\n",
       "    }\n",
       "\n",
       "    .dataframe thead th {\n",
       "        text-align: right;\n",
       "    }\n",
       "</style>\n",
       "<table border=\"1\" class=\"dataframe\">\n",
       "  <thead>\n",
       "    <tr style=\"text-align: right;\">\n",
       "      <th></th>\n",
       "      <th>sentence</th>\n",
       "      <th>label</th>\n",
       "    </tr>\n",
       "  </thead>\n",
       "  <tbody>\n",
       "    <tr>\n",
       "      <th>0</th>\n",
       "      <td>민주평화당 의원과 공동으로 '건축물 안전 위협하는 자격대여 근절과 건축사 사회적 책...</td>\n",
       "      <td>8</td>\n",
       "    </tr>\n",
       "    <tr>\n",
       "      <th>1</th>\n",
       "      <td>행정안전부가 재난방송을 요청하도록 일원화하고, 주관방송사인 KBS의 책임을 강화하...</td>\n",
       "      <td>8</td>\n",
       "    </tr>\n",
       "    <tr>\n",
       "      <th>2</th>\n",
       "      <td>재판부는 \"A사는 동물 점유자로서 민법에 따라 이번 사고로 인한 손해를 배상할 책임...</td>\n",
       "      <td>8</td>\n",
       "    </tr>\n",
       "    <tr>\n",
       "      <th>3</th>\n",
       "      <td>13년 만이다</td>\n",
       "      <td>8</td>\n",
       "    </tr>\n",
       "    <tr>\n",
       "      <th>4</th>\n",
       "      <td>국민연금이 2006년 사회책임투자를 시작한 지 13년 만에 '사회책임투자 로드맵'...</td>\n",
       "      <td>8</td>\n",
       "    </tr>\n",
       "  </tbody>\n",
       "</table>\n",
       "</div>"
      ],
      "text/plain": [
       "                                            sentence  label\n",
       "0  민주평화당 의원과 공동으로 '건축물 안전 위협하는 자격대여 근절과 건축사 사회적 책...      8\n",
       "1   행정안전부가 재난방송을 요청하도록 일원화하고, 주관방송사인 KBS의 책임을 강화하...      8\n",
       "2  재판부는 \"A사는 동물 점유자로서 민법에 따라 이번 사고로 인한 손해를 배상할 책임...      8\n",
       "3                                            13년 만이다      8\n",
       "4   국민연금이 2006년 사회책임투자를 시작한 지 13년 만에 '사회책임투자 로드맵'...      8"
      ]
     },
     "execution_count": 127,
     "metadata": {},
     "output_type": "execute_result"
    }
   ],
   "source": [
    "a8 = pd.DataFrame(ability_8[\"sentence\"])\n",
    "a8[\"label\"] = 8\n",
    "a8.head()"
   ]
  },
  {
   "cell_type": "code",
   "execution_count": 128,
   "metadata": {},
   "outputs": [
    {
     "data": {
      "text/html": [
       "<div>\n",
       "<style scoped>\n",
       "    .dataframe tbody tr th:only-of-type {\n",
       "        vertical-align: middle;\n",
       "    }\n",
       "\n",
       "    .dataframe tbody tr th {\n",
       "        vertical-align: top;\n",
       "    }\n",
       "\n",
       "    .dataframe thead th {\n",
       "        text-align: right;\n",
       "    }\n",
       "</style>\n",
       "<table border=\"1\" class=\"dataframe\">\n",
       "  <thead>\n",
       "    <tr style=\"text-align: right;\">\n",
       "      <th></th>\n",
       "      <th>sentence</th>\n",
       "      <th>label</th>\n",
       "    </tr>\n",
       "  </thead>\n",
       "  <tbody>\n",
       "    <tr>\n",
       "      <th>0</th>\n",
       "      <td>지역 메이커스페이스 지도   홍창진 기자 = 대구에서 창의적 메이커 주간인 16∼1...</td>\n",
       "      <td>9</td>\n",
       "    </tr>\n",
       "    <tr>\n",
       "      <th>1</th>\n",
       "      <td>창의적 메이커는 만들기를</td>\n",
       "      <td>9</td>\n",
       "    </tr>\n",
       "    <tr>\n",
       "      <th>2</th>\n",
       "      <td>박종국 기자 = 충북 증평군이 농촌 중심지 활성화를 위해 구상하는 '창의 파크' ...</td>\n",
       "      <td>9</td>\n",
       "    </tr>\n",
       "    <tr>\n",
       "      <th>3</th>\n",
       "      <td>박겸수)는 취약계층 및 이재민 임시 보호소인 '365 안전쉼터'가 2019 상반기 ...</td>\n",
       "      <td>9</td>\n",
       "    </tr>\n",
       "    <tr>\n",
       "      <th>4</th>\n",
       "      <td>서울창의상은 새로운 아이디어나 사업으로</td>\n",
       "      <td>9</td>\n",
       "    </tr>\n",
       "  </tbody>\n",
       "</table>\n",
       "</div>"
      ],
      "text/plain": [
       "                                            sentence  label\n",
       "0  지역 메이커스페이스 지도   홍창진 기자 = 대구에서 창의적 메이커 주간인 16∼1...      9\n",
       "1                                      창의적 메이커는 만들기를      9\n",
       "2   박종국 기자 = 충북 증평군이 농촌 중심지 활성화를 위해 구상하는 '창의 파크' ...      9\n",
       "3  박겸수)는 취약계층 및 이재민 임시 보호소인 '365 안전쉼터'가 2019 상반기 ...      9\n",
       "4                              서울창의상은 새로운 아이디어나 사업으로      9"
      ]
     },
     "execution_count": 128,
     "metadata": {},
     "output_type": "execute_result"
    }
   ],
   "source": [
    "a9 = pd.DataFrame(ability_9[\"sentence\"])\n",
    "a9[\"label\"] = 9\n",
    "a9.head()"
   ]
  },
  {
   "cell_type": "code",
   "execution_count": 129,
   "metadata": {},
   "outputs": [
    {
     "data": {
      "text/html": [
       "<div>\n",
       "<style scoped>\n",
       "    .dataframe tbody tr th:only-of-type {\n",
       "        vertical-align: middle;\n",
       "    }\n",
       "\n",
       "    .dataframe tbody tr th {\n",
       "        vertical-align: top;\n",
       "    }\n",
       "\n",
       "    .dataframe thead th {\n",
       "        text-align: right;\n",
       "    }\n",
       "</style>\n",
       "<table border=\"1\" class=\"dataframe\">\n",
       "  <thead>\n",
       "    <tr style=\"text-align: right;\">\n",
       "      <th></th>\n",
       "      <th>sentence</th>\n",
       "      <th>label</th>\n",
       "    </tr>\n",
       "  </thead>\n",
       "  <tbody>\n",
       "    <tr>\n",
       "      <th>0</th>\n",
       "      <td>친하게 지내고 회식을 많이 한 공연은 앞으로 없을 것 같다”며 동료들과의 끈끈한 팀...</td>\n",
       "      <td>10</td>\n",
       "    </tr>\n",
       "    <tr>\n",
       "      <th>1</th>\n",
       "      <td>그는 전북전에 부상과 경고 누적으로 출전할 수 없는 윤영선과 불투이스의 공백을 팀워...</td>\n",
       "      <td>10</td>\n",
       "    </tr>\n",
       "    <tr>\n",
       "      <th>2</th>\n",
       "      <td>하노이 지점에 입사한 부이 득 캉 팀장은 \"국민은행에서 제일 필요한 능력은 팀워크라...</td>\n",
       "      <td>10</td>\n",
       "    </tr>\n",
       "    <tr>\n",
       "      <th>3</th>\n",
       "      <td>'녹두꽃' 팀워크 이 정도일 줄이야</td>\n",
       "      <td>10</td>\n",
       "    </tr>\n",
       "    <tr>\n",
       "      <th>4</th>\n",
       "      <td>문소리가 2일 서울 CGV용산에서 열린 영화 ‘배심원들’ 시사회에서 팀워크를 언급하...</td>\n",
       "      <td>10</td>\n",
       "    </tr>\n",
       "  </tbody>\n",
       "</table>\n",
       "</div>"
      ],
      "text/plain": [
       "                                            sentence  label\n",
       "0  친하게 지내고 회식을 많이 한 공연은 앞으로 없을 것 같다”며 동료들과의 끈끈한 팀...     10\n",
       "1  그는 전북전에 부상과 경고 누적으로 출전할 수 없는 윤영선과 불투이스의 공백을 팀워...     10\n",
       "2  하노이 지점에 입사한 부이 득 캉 팀장은 \"국민은행에서 제일 필요한 능력은 팀워크라...     10\n",
       "3                                '녹두꽃' 팀워크 이 정도일 줄이야     10\n",
       "4  문소리가 2일 서울 CGV용산에서 열린 영화 ‘배심원들’ 시사회에서 팀워크를 언급하...     10"
      ]
     },
     "execution_count": 129,
     "metadata": {},
     "output_type": "execute_result"
    }
   ],
   "source": [
    "a10 = pd.DataFrame(ability_10[\"sentence\"])\n",
    "a10[\"label\"] = 10\n",
    "a10.head()"
   ]
  },
  {
   "cell_type": "code",
   "execution_count": 130,
   "metadata": {},
   "outputs": [],
   "source": [
    "data = a1.append(a2).append(a3).append(a4).append(a5).append(a6).append(a7).append(a8).append(a9).append(a10)\n",
    "\n"
   ]
  },
  {
   "cell_type": "code",
   "execution_count": 131,
   "metadata": {},
   "outputs": [
    {
     "data": {
      "text/plain": [
       "(22243, 2)"
      ]
     },
     "execution_count": 131,
     "metadata": {},
     "output_type": "execute_result"
    }
   ],
   "source": [
    "data.shape\n"
   ]
  },
  {
   "cell_type": "code",
   "execution_count": 132,
   "metadata": {},
   "outputs": [],
   "source": [
    "import numpy as np\n",
    "from sklearn.model_selection import train_test_split"
   ]
  },
  {
   "cell_type": "code",
   "execution_count": 133,
   "metadata": {},
   "outputs": [],
   "source": [
    "train, test = train_test_split(data, test_size=0.2, random_state=42)"
   ]
  },
  {
   "cell_type": "code",
   "execution_count": 134,
   "metadata": {},
   "outputs": [
    {
     "name": "stderr",
     "output_type": "stream",
     "text": [
      "/Library/Frameworks/Python.framework/Versions/3.7/lib/python3.7/site-packages/ipykernel_launcher.py:1: SettingWithCopyWarning: \n",
      "A value is trying to be set on a copy of a slice from a DataFrame.\n",
      "Try using .loc[row_indexer,col_indexer] = value instead\n",
      "\n",
      "See the caveats in the documentation: http://pandas.pydata.org/pandas-docs/stable/indexing.html#indexing-view-versus-copy\n",
      "  \"\"\"Entry point for launching an IPython kernel.\n"
     ]
    }
   ],
   "source": [
    "train[\"label\"] = pd.Categorical(train[\"label\"])"
   ]
  },
  {
   "cell_type": "code",
   "execution_count": 135,
   "metadata": {},
   "outputs": [
    {
     "data": {
      "text/html": [
       "<div>\n",
       "<style scoped>\n",
       "    .dataframe tbody tr th:only-of-type {\n",
       "        vertical-align: middle;\n",
       "    }\n",
       "\n",
       "    .dataframe tbody tr th {\n",
       "        vertical-align: top;\n",
       "    }\n",
       "\n",
       "    .dataframe thead th {\n",
       "        text-align: right;\n",
       "    }\n",
       "</style>\n",
       "<table border=\"1\" class=\"dataframe\">\n",
       "  <thead>\n",
       "    <tr style=\"text-align: right;\">\n",
       "      <th></th>\n",
       "      <th>sentence</th>\n",
       "    </tr>\n",
       "    <tr>\n",
       "      <th>label</th>\n",
       "      <th></th>\n",
       "    </tr>\n",
       "  </thead>\n",
       "  <tbody>\n",
       "    <tr>\n",
       "      <th>1</th>\n",
       "      <td>2072</td>\n",
       "    </tr>\n",
       "    <tr>\n",
       "      <th>2</th>\n",
       "      <td>1764</td>\n",
       "    </tr>\n",
       "    <tr>\n",
       "      <th>3</th>\n",
       "      <td>1979</td>\n",
       "    </tr>\n",
       "    <tr>\n",
       "      <th>4</th>\n",
       "      <td>435</td>\n",
       "    </tr>\n",
       "    <tr>\n",
       "      <th>5</th>\n",
       "      <td>2159</td>\n",
       "    </tr>\n",
       "    <tr>\n",
       "      <th>6</th>\n",
       "      <td>1908</td>\n",
       "    </tr>\n",
       "    <tr>\n",
       "      <th>7</th>\n",
       "      <td>1347</td>\n",
       "    </tr>\n",
       "    <tr>\n",
       "      <th>8</th>\n",
       "      <td>1872</td>\n",
       "    </tr>\n",
       "    <tr>\n",
       "      <th>9</th>\n",
       "      <td>2127</td>\n",
       "    </tr>\n",
       "    <tr>\n",
       "      <th>10</th>\n",
       "      <td>2131</td>\n",
       "    </tr>\n",
       "  </tbody>\n",
       "</table>\n",
       "</div>"
      ],
      "text/plain": [
       "       sentence\n",
       "label          \n",
       "1          2072\n",
       "2          1764\n",
       "3          1979\n",
       "4           435\n",
       "5          2159\n",
       "6          1908\n",
       "7          1347\n",
       "8          1872\n",
       "9          2127\n",
       "10         2131"
      ]
     },
     "execution_count": 135,
     "metadata": {},
     "output_type": "execute_result"
    }
   ],
   "source": [
    "train.groupby(\"label\").count()"
   ]
  },
  {
   "cell_type": "code",
   "execution_count": 136,
   "metadata": {
    "scrolled": true
   },
   "outputs": [
    {
     "data": {
      "text/html": [
       "<div>\n",
       "<style scoped>\n",
       "    .dataframe tbody tr th:only-of-type {\n",
       "        vertical-align: middle;\n",
       "    }\n",
       "\n",
       "    .dataframe tbody tr th {\n",
       "        vertical-align: top;\n",
       "    }\n",
       "\n",
       "    .dataframe thead th {\n",
       "        text-align: right;\n",
       "    }\n",
       "</style>\n",
       "<table border=\"1\" class=\"dataframe\">\n",
       "  <thead>\n",
       "    <tr style=\"text-align: right;\">\n",
       "      <th></th>\n",
       "      <th>sentence</th>\n",
       "    </tr>\n",
       "    <tr>\n",
       "      <th>label</th>\n",
       "      <th></th>\n",
       "    </tr>\n",
       "  </thead>\n",
       "  <tbody>\n",
       "    <tr>\n",
       "      <th>1</th>\n",
       "      <td>484</td>\n",
       "    </tr>\n",
       "    <tr>\n",
       "      <th>2</th>\n",
       "      <td>487</td>\n",
       "    </tr>\n",
       "    <tr>\n",
       "      <th>3</th>\n",
       "      <td>498</td>\n",
       "    </tr>\n",
       "    <tr>\n",
       "      <th>4</th>\n",
       "      <td>128</td>\n",
       "    </tr>\n",
       "    <tr>\n",
       "      <th>5</th>\n",
       "      <td>549</td>\n",
       "    </tr>\n",
       "    <tr>\n",
       "      <th>6</th>\n",
       "      <td>462</td>\n",
       "    </tr>\n",
       "    <tr>\n",
       "      <th>7</th>\n",
       "      <td>324</td>\n",
       "    </tr>\n",
       "    <tr>\n",
       "      <th>8</th>\n",
       "      <td>474</td>\n",
       "    </tr>\n",
       "    <tr>\n",
       "      <th>9</th>\n",
       "      <td>527</td>\n",
       "    </tr>\n",
       "    <tr>\n",
       "      <th>10</th>\n",
       "      <td>516</td>\n",
       "    </tr>\n",
       "  </tbody>\n",
       "</table>\n",
       "</div>"
      ],
      "text/plain": [
       "       sentence\n",
       "label          \n",
       "1           484\n",
       "2           487\n",
       "3           498\n",
       "4           128\n",
       "5           549\n",
       "6           462\n",
       "7           324\n",
       "8           474\n",
       "9           527\n",
       "10          516"
      ]
     },
     "execution_count": 136,
     "metadata": {},
     "output_type": "execute_result"
    }
   ],
   "source": [
    "test.groupby(\"label\").count()"
   ]
  },
  {
   "cell_type": "code",
   "execution_count": 137,
   "metadata": {},
   "outputs": [],
   "source": [
    "from konlpy.tag import Twitter\n",
    "from sklearn.feature_extraction.text import CountVectorizer"
   ]
  },
  {
   "cell_type": "code",
   "execution_count": 138,
   "metadata": {},
   "outputs": [],
   "source": [
    "def get_noun(text):\n",
    "    tokenizer = Twitter()\n",
    "    nouns = tokenizer.nouns(text)\n",
    "    return [n for n in nouns]"
   ]
  },
  {
   "cell_type": "code",
   "execution_count": 139,
   "metadata": {},
   "outputs": [],
   "source": [
    "cv = CountVectorizer(tokenizer=get_noun,stop_words=None, ngram_range=(1, 2))"
   ]
  },
  {
   "cell_type": "code",
   "execution_count": null,
   "metadata": {},
   "outputs": [],
   "source": [
    "tdm = cv.fit_transform(train[\"sentence\"])"
   ]
  },
  {
   "cell_type": "code",
   "execution_count": 99,
   "metadata": {},
   "outputs": [
    {
     "name": "stderr",
     "output_type": "stream",
     "text": [
      "/Library/Frameworks/Python.framework/Versions/3.7/lib/python3.7/site-packages/sklearn/linear_model/stochastic_gradient.py:152: DeprecationWarning: n_iter parameter is deprecated in 0.19 and will be removed in 0.21. Use max_iter and tol instead.\n",
      "  DeprecationWarning)\n"
     ]
    }
   ],
   "source": [
    "from sklearn.feature_extraction.text import CountVectorizer\n",
    "from sklearn.feature_extraction.text import TfidfTransformer\n",
    "from sklearn.linear_model import SGDClassifier\n",
    "from sklearn.pipeline import Pipeline\n",
    "\n",
    "text_clf_svm = Pipeline([('vect', CountVectorizer(tokenizer=get_noun)),\n",
    "                         ('tfidf', TfidfTransformer()),\n",
    "                         ('clf-svm', SGDClassifier(loss='hinge', penalty='l2', alpha=1e-3, n_iter=5, random_state=42))])\n",
    "\n",
    "text_clf_svm = text_clf_svm.fit(train[\"sentence\"], train[\"label\"])\n"
   ]
  },
  {
   "cell_type": "code",
   "execution_count": null,
   "metadata": {},
   "outputs": [],
   "source": [
    "predicted_svm = text_clf_svm.predict(test[\"sentence\"])\n",
    "np.mean(predicted_svm == test[\"label\"])"
   ]
  },
  {
   "cell_type": "code",
   "execution_count": null,
   "metadata": {},
   "outputs": [],
   "source": [
    "print(type(predicted_svm))"
   ]
  },
  {
   "cell_type": "code",
   "execution_count": null,
   "metadata": {},
   "outputs": [],
   "source": [
    "text_clf_svm.predict([\"[창조는 메모에서 비롯된다] 평소에 이런저런 생각을 메모하는 습관이 있습니다. 이 습관은 인턴활동을 할 때 많은 도움이 되었습니다. 인턴 교육당시에 업무 중에 포스터 기획을 하는 업무도 있다는 말씀을 해 주셨습니다. 그 후에 제품에 대한 교육이 이뤄졌습니다. 제품에 대한 장점들을 기준을 세워 메모를 하였습니다. 그 후 장소에 구애받지 않고 제품의 장점 그리고 시즈널 키워드를 활용하여 아이디어를 메모했습니다. 제품 중에 닭죽이 있었는데, 그 죽의 효능이 수능생들에 매우 많은 도움이 되는 것들이었습니다. 그래서 저는 수능 시즌에 맞춘 아이디어를 제공하여 닭죽을 먹으면 이 죽을 먹으며 죽빵을 날리는 것 처럼 문제를 한방 먹인다는 컨셉으로 포스터를 기획했습니다. 이 포스터로 흥미을 유발하여 고객층의 소비를 이끌었던 적 있습니다.\"])\n",
    "print (text_clf_svm.decision_function([\"평소에 이런저런 생각을 메모하는 습관이 있습니다. 이 습관은 인턴활동을 할 때 많은 도움이 되었습니다. 인턴 교육당시에 업무 중에 포스터 기획을 하는 업무도 있다는 말씀을 해 주셨습니다. 그 후에 제품에 대한 교육이 이뤄졌습니다. 제품에 대한 장점들을 기준을 세워 메모를 하였습니다. 그 후 장소에 구애받지 않고 제품의 장점 그리고 시즈널 키워드를 활용하여 아이디어를 메모했습니다. 제품 중에 닭죽이 있었는데, 그 죽의 효능이 수능생들에 매우 많은 도움이 되는 것들이었습니다. 그래서 저는 수능 시즌에 맞춘 아이디어를 제공하여 닭죽을 먹으면 이 죽을 먹으며 죽빵을 날리는 것 처럼 문제를 한방 먹인다는 컨셉으로 포스터를 기획했습니다. 이 포스터로 흥미을 유발하여 고객층의 소비를 이끌었던 적 있습니다.\"]))\n",
    "\n",
    "#[창조는 메모에서 비롯된다] 포함해서 돌리면 확실히 창의 역량의 값이 커짐\n",
    "#제외해서 돌려도 제일 크긴함\n"
   ]
  },
  {
   "cell_type": "code",
   "execution_count": null,
   "metadata": {},
   "outputs": [],
   "source": [
    "text_clf_svm.predict([\"지원동기:지원동기를구체적으로기술해주세요\\n[새로운 도전을 통해 성장하는 사람]\\n롯데 e커머스에서 보이스커머스 사업을 내년 상반기에 상용화할 것이라는 계획을 접하게 되었습니다. 보이스커머스의 핵심 기술 중 하나는 바로 STT 입니다. 저는 000 프로젝트에서 STT 기술을 이용해 000을 제공하는 앱을 개발하였습니다. 이를 통해 STT 기술에 대한 이해와 중요성을 배울 수 있었습니다. 이때의 경험이 롯데 e커머스의 프로그래밍 직무를 수행하는 데 도움이 될 것이라 생각합니다.\\n저의 목표 IT 기술을 통해 사람들의 생활을 보다 편리하게 만드는 것입니다. 롯데 e커머스에서는 보이스커머스 뿐만 아니라 사만다 톡추천, 쇼바시, 스마트픽 등 고객들에게 편리한 서비스 제공을 위해 큰 노력을 하고 있습니다. 고객의 생활을 더욱 편리하게 만든다는 것이 제가 추구하는 바와 같다고 생각합니다. 그리고 SSO 시스템을 통해 새롭게 도약하는 롯데 e커머스와 함께 하고 싶기에 지원하게 되었습니다.\\n성장과정:성장과정을구체적으로기술해주세요.[새로운 도전을 통해 성장하는 사람]\\n경험을 통해 배움을 얻을 수 있다는 생각을 가지고 있습니다. 그래서 도전할 기회가 생기면 주저하지 않고 참여하였습니 다.\\n첫째, IT 관련해서 2회 인턴 경험과 다양한 개발 프로젝트 경험을 가지고 있습니다.\\n3학년 재학 중 웹에이전시 기획팀 인턴에 참여할 수 있는 기회가 주어졌습니다. 인턴을 하며 기획, 디자인, 개발 교육을 받았고 다양한 프로젝트를 수행하였습니다. 이를 통해 프로젝트 진행 과정과 협력을 배울 수 있었습니다. 또한, 재학 중 다양한 개발 프로젝트를 진행하였습니다. 참여에 그치는 것이 아니라 공모전 출품, 정보처리학회 추계학술대회 참여 등 도전을 확장해나갔습니다.\\n둘째, IT 매니저 업무를 통해 실무를 익히다.\\n3개월 동안 진학 컨설팅 센터에서 근무한 경험이 있습니다. 1달도 채 남지 않은 오픈 날짜까지 웹 개편부터 SNS 관리를 요청받았습니다. 하지만 IT 매니저는 저뿐이고, 센터 내에 IT 업무에 대해 아는 분이 없는 상황이었습니다. 그래서 웹 개발 부터 SNS 홍보 방식까지 모두 알아보았습니다. 먼저 외주업체를 선정해 퍼블리싱을 요청하였고, 퍼블리싱된 소스 코드에Javascript 코드를 추가하는 방식으로 웹 개편을 하였습니다. 그리고 블로그, 인스타, 페이스북에 센터 자료를 제작해 업로드 하였고, 페이스북 광고를 진행하는 등 다양한 매체를 통해 홍보하였습니다. 그 결과 오픈 날짜에 맞춰 성공적으로 홈페이지 개편과 홍보를 할 수 있었습니다. 포기하지 않고 도전한 다양한 경험을 바탕으로 롯데 e커머스에서도 적극적인 업무자세를 보여드리겠습니다.\\n입사후포부:입사후10년동안의회사생활시나리오와그것을추구하는이유를기술해주세요.\\n[오늘보다 내일 더 성장하는 사람]\\n먼저 입사 후 롯데 e커머스의 프로젝트 진행 과정을 파악하고 이해하겠습니다. 그리고 이를 토대로 내년 상반기 오픈 예정인 투게더 앱에 대해 고민하는 신입사원이 되겠습니다. 그리고 빅데이터를 잘 다룰 수 있도록 공부하고, DBA 자격증을 취득해 전문성을 갖추겠습니다.\\n5년 후, 고객별 맞춤형 추천 시스템을이 도입될 수 있도록 하겠습니다. 유튜브 사용자 맞춤 동영상 추천처럼 맞춤 추천 시스템은 다양한 기업에서 사용하고 있습니다. 롯데 e커머스에도 적용되어 고객마다 다른 추천 상품을 볼 있도록 하고, 이를 통해 편리성과 매출 증대를 이룰 수 있도록 하겠습니다.\\n10년 후, 업계를 선도하는 롯데 e커머스의 프로젝트 매니저로 성장하여 인공지능, 빅데이터를 활용해 추천을 넘어 고객의 삶에 필수적인 서비스를 기획하고 개발하겠습니다. 지나온 10년을 설하고, 앞으로의 10년을 준비하겠습니다. 그리고 오늘 보다 내일 더 성장하는 롯데 e커머스의 일원이 되겠습니다.\"])\n",
    "print (text_clf_svm.decision_function([\"지원동기:지원동기를구체적으로기술해주세요\\n[새로운 도전을 통해 성장하는 사람]\\n롯데 e커머스에서 보이스커머스 사업을 내년 상반기에 상용화할 것이라는 계획을 접하게 되었습니다. 보이스커머스의 핵심 기술 중 하나는 바로 STT 입니다. 저는 000 프로젝트에서 STT 기술을 이용해 000을 제공하는 앱을 개발하였습니다. 이를 통해 STT 기술에 대한 이해와 중요성을 배울 수 있었습니다. 이때의 경험이 롯데 e커머스의 프로그래밍 직무를 수행하는 데 도움이 될 것이라 생각합니다.\\n저의 목표 IT 기술을 통해 사람들의 생활을 보다 편리하게 만드는 것입니다. 롯데 e커머스에서는 보이스커머스 뿐만 아니라 사만다 톡추천, 쇼바시, 스마트픽 등 고객들에게 편리한 서비스 제공을 위해 큰 노력을 하고 있습니다. 고객의 생활을 더욱 편리하게 만든다는 것이 제가 추구하는 바와 같다고 생각합니다. 그리고 SSO 시스템을 통해 새롭게 도약하는 롯데 e커머스와 함께 하고 싶기에 지원하게 되었습니다.\\n성장과정:성장과정을구체적으로기술해주세요.[새로운 도전을 통해 성장하는 사람]\\n경험을 통해 배움을 얻을 수 있다는 생각을 가지고 있습니다. 그래서 도전할 기회가 생기면 주저하지 않고 참여하였습니 다.\\n첫째, IT 관련해서 2회 인턴 경험과 다양한 개발 프로젝트 경험을 가지고 있습니다.\\n3학년 재학 중 웹에이전시 기획팀 인턴에 참여할 수 있는 기회가 주어졌습니다. 인턴을 하며 기획, 디자인, 개발 교육을 받았고 다양한 프로젝트를 수행하였습니다. 이를 통해 프로젝트 진행 과정과 협력을 배울 수 있었습니다. 또한, 재학 중 다양한 개발 프로젝트를 진행하였습니다. 참여에 그치는 것이 아니라 공모전 출품, 정보처리학회 추계학술대회 참여 등 도전을 확장해나갔습니다.\\n둘째, IT 매니저 업무를 통해 실무를 익히다.\\n3개월 동안 진학 컨설팅 센터에서 근무한 경험이 있습니다. 1달도 채 남지 않은 오픈 날짜까지 웹 개편부터 SNS 관리를 요청받았습니다. 하지만 IT 매니저는 저뿐이고, 센터 내에 IT 업무에 대해 아는 분이 없는 상황이었습니다. 그래서 웹 개발 부터 SNS 홍보 방식까지 모두 알아보았습니다. 먼저 외주업체를 선정해 퍼블리싱을 요청하였고, 퍼블리싱된 소스 코드에Javascript 코드를 추가하는 방식으로 웹 개편을 하였습니다. 그리고 블로그, 인스타, 페이스북에 센터 자료를 제작해 업로드 하였고, 페이스북 광고를 진행하는 등 다양한 매체를 통해 홍보하였습니다. 그 결과 오픈 날짜에 맞춰 성공적으로 홈페이지 개편과 홍보를 할 수 있었습니다. 포기하지 않고 도전한 다양한 경험을 바탕으로 롯데 e커머스에서도 적극적인 업무자세를 보여드리겠습니다.\\n입사후포부:입사후10년동안의회사생활시나리오와그것을추구하는이유를기술해주세요.\\n[오늘보다 내일 더 성장하는 사람]\\n먼저 입사 후 롯데 e커머스의 프로젝트 진행 과정을 파악하고 이해하겠습니다. 그리고 이를 토대로 내년 상반기 오픈 예정인 투게더 앱에 대해 고민하는 신입사원이 되겠습니다. 그리고 빅데이터를 잘 다룰 수 있도록 공부하고, DBA 자격증을 취득해 전문성을 갖추겠습니다.\\n5년 후, 고객별 맞춤형 추천 시스템을이 도입될 수 있도록 하겠습니다. 유튜브 사용자 맞춤 동영상 추천처럼 맞춤 추천 시스템은 다양한 기업에서 사용하고 있습니다. 롯데 e커머스에도 적용되어 고객마다 다른 추천 상품을 볼 있도록 하고, 이를 통해 편리성과 매출 증대를 이룰 수 있도록 하겠습니다.\\n10년 후, 업계를 선도하는 롯데 e커머스의 프로젝트 매니저로 성장하여 인공지능, 빅데이터를 활용해 추천을 넘어 고객의 삶에 필수적인 서비스를 기획하고 개발하겠습니다. 지나온 10년을 설하고, 앞으로의 10년을 준비하겠습니다. 그리고 오늘 보다 내일 더 성장하는 롯데 e커머스의 일원이 되겠습니다.\"]))"
   ]
  },
  {
   "cell_type": "code",
   "execution_count": null,
   "metadata": {},
   "outputs": [],
   "source": [
    "#모델 저장하기\n",
    "from sklearn.linear_model import LogisticRegression\n",
    "from sklearn import datasets\n",
    "import pickle\n",
    "from sklearn.externals import joblib"
   ]
  },
  {
   "cell_type": "code",
   "execution_count": null,
   "metadata": {},
   "outputs": [],
   "source": [
    "joblib.dump(text_clf_svm, 'svm_clf_model.pkl') #피클 파일로 모델 저장"
   ]
  },
  {
   "cell_type": "code",
   "execution_count": null,
   "metadata": {},
   "outputs": [],
   "source": [
    "clf_from_joblib = joblib.load('svm_clf_model.pkl')\n",
    "\n",
    "#모델이 올바르게 저장됐는지 확인해보기\n",
    "no_save = text_clf_svm.decision_function([\"저는 열정적인 사람입니다\"])\n",
    "save = clf_from_joblib.decision_function([\"저는 열정적인 사람입니다\"])\n",
    "\n",
    "print(no_save == save)"
   ]
  },
  {
   "cell_type": "code",
   "execution_count": null,
   "metadata": {},
   "outputs": [],
   "source": []
  },
  {
   "cell_type": "code",
   "execution_count": null,
   "metadata": {},
   "outputs": [],
   "source": []
  },
  {
   "cell_type": "code",
   "execution_count": null,
   "metadata": {},
   "outputs": [],
   "source": []
  },
  {
   "cell_type": "code",
   "execution_count": null,
   "metadata": {},
   "outputs": [],
   "source": []
  },
  {
   "cell_type": "code",
   "execution_count": null,
   "metadata": {},
   "outputs": [],
   "source": []
  }
 ],
 "metadata": {
  "kernelspec": {
   "display_name": "Python 3",
   "language": "python",
   "name": "python3"
  },
  "language_info": {
   "codemirror_mode": {
    "name": "ipython",
    "version": 3
   },
   "file_extension": ".py",
   "mimetype": "text/x-python",
   "name": "python",
   "nbconvert_exporter": "python",
   "pygments_lexer": "ipython3",
   "version": "3.7.2"
  }
 },
 "nbformat": 4,
 "nbformat_minor": 2
}
